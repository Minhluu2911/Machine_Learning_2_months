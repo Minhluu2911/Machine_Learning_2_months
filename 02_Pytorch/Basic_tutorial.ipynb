{
 "cells": [
  {
   "cell_type": "markdown",
   "metadata": {},
   "source": [
    "## What is Pytorch?\n",
    "- Pytorch is a scientific computing package for Python programs that can **use the power of graphics processing units**. You can think about Numpy but with strong GPU acceleration.\n",
    "\n",
    "## Why we are using Pytorch?\n",
    "- Because pytorch can computing with strong acceleration support so this is very fast to compute a huge of data.\n",
    "\n",
    "## How to install Pytorch in your computer?\n",
    "- With Anaconda: `conda install pytorch torchvision -c pytorch`\n",
    "- With pip: `pip3 install torch torchvision` \n",
    "- If you have problem with install then try to install from the [main page](https://pytorch.org/)\n",
    "\n",
    "<hr>"
   ]
  },
  {
   "cell_type": "code",
   "execution_count": 1,
   "metadata": {},
   "outputs": [],
   "source": [
    "# import library\n",
    "import numpy as np\n",
    "import torch"
   ]
  },
  {
   "cell_type": "markdown",
   "metadata": {},
   "source": [
    "**Tensor in pytorch is the same as array in numpy but tensor can use the power of GPUs to compute**"
   ]
  },
  {
   "cell_type": "code",
   "execution_count": 2,
   "metadata": {},
   "outputs": [],
   "source": [
    "x = np.array([[1,2,3],[4,5,6],[7,8,9]])\n",
    "y = torch.tensor([[1,2,3],[4,5,6],[7,8,9]])"
   ]
  },
  {
   "cell_type": "code",
   "execution_count": 3,
   "metadata": {},
   "outputs": [
    {
     "data": {
      "text/plain": [
       "array([[1, 2, 3],\n",
       "       [4, 5, 6],\n",
       "       [7, 8, 9]])"
      ]
     },
     "execution_count": 3,
     "metadata": {},
     "output_type": "execute_result"
    }
   ],
   "source": [
    "x"
   ]
  },
  {
   "cell_type": "code",
   "execution_count": 4,
   "metadata": {},
   "outputs": [
    {
     "data": {
      "text/plain": [
       "tensor([[1, 2, 3],\n",
       "        [4, 5, 6],\n",
       "        [7, 8, 9]])"
      ]
     },
     "execution_count": 4,
     "metadata": {},
     "output_type": "execute_result"
    }
   ],
   "source": [
    "y"
   ]
  },
  {
   "cell_type": "markdown",
   "metadata": {},
   "source": [
    "**Because you can think pytorch is same as numpy with GPUs using so pytorch can also do almost everything that numpy can do**"
   ]
  },
  {
   "cell_type": "code",
   "execution_count": 5,
   "metadata": {},
   "outputs": [
    {
     "data": {
      "text/plain": [
       "tensor([[0., 0., 0.],\n",
       "        [0., 0., 0.],\n",
       "        [0., 0., 0.]])"
      ]
     },
     "execution_count": 5,
     "metadata": {},
     "output_type": "execute_result"
    }
   ],
   "source": [
    "torch.empty(3,3)"
   ]
  },
  {
   "cell_type": "code",
   "execution_count": 6,
   "metadata": {},
   "outputs": [
    {
     "data": {
      "text/plain": [
       "tensor([[0., 0., 0.],\n",
       "        [0., 0., 0.],\n",
       "        [0., 0., 0.]])"
      ]
     },
     "execution_count": 6,
     "metadata": {},
     "output_type": "execute_result"
    }
   ],
   "source": [
    "torch.zeros(3,3)"
   ]
  },
  {
   "cell_type": "code",
   "execution_count": 7,
   "metadata": {},
   "outputs": [
    {
     "data": {
      "text/plain": [
       "tensor([[1., 1., 1.],\n",
       "        [1., 1., 1.],\n",
       "        [1., 1., 1.]])"
      ]
     },
     "execution_count": 7,
     "metadata": {},
     "output_type": "execute_result"
    }
   ],
   "source": [
    "torch.ones(3,3)"
   ]
  },
  {
   "cell_type": "code",
   "execution_count": 8,
   "metadata": {},
   "outputs": [
    {
     "data": {
      "text/plain": [
       "tensor([[1., 0., 0.],\n",
       "        [0., 1., 0.],\n",
       "        [0., 0., 1.]])"
      ]
     },
     "execution_count": 8,
     "metadata": {},
     "output_type": "execute_result"
    }
   ],
   "source": [
    "torch.eye(3,3)"
   ]
  },
  {
   "cell_type": "code",
   "execution_count": 9,
   "metadata": {},
   "outputs": [
    {
     "data": {
      "text/plain": [
       "tensor([[[ 0.4442,  0.7132,  0.1733, -0.5846],\n",
       "         [ 0.7702,  1.8884,  0.4687,  0.4785],\n",
       "         [ 0.6524,  0.0380, -0.6005,  0.1215]],\n",
       "\n",
       "        [[ 0.0774,  0.4832,  0.0977,  0.2972],\n",
       "         [-0.3034, -1.8143, -0.1316,  0.3470],\n",
       "         [-1.3746,  0.3747,  1.2779,  0.7601]],\n",
       "\n",
       "        [[-0.2451,  0.6935,  0.7911,  0.8236],\n",
       "         [-2.0401,  0.4685, -0.9248,  1.2846],\n",
       "         [-0.7008,  2.4177,  0.3364,  0.0387]]])"
      ]
     },
     "execution_count": 9,
     "metadata": {},
     "output_type": "execute_result"
    }
   ],
   "source": [
    "torch.randn(3,3,4)"
   ]
  },
  {
   "cell_type": "code",
   "execution_count": 10,
   "metadata": {},
   "outputs": [
    {
     "data": {
      "text/plain": [
       "tensor([  0.0000,   2.0408,   4.0816,   6.1224,   8.1633,  10.2041,  12.2449,\n",
       "         14.2857,  16.3265,  18.3673,  20.4082,  22.4490,  24.4898,  26.5306,\n",
       "         28.5714,  30.6122,  32.6531,  34.6939,  36.7347,  38.7755,  40.8163,\n",
       "         42.8571,  44.8980,  46.9388,  48.9796,  51.0204,  53.0612,  55.1020,\n",
       "         57.1429,  59.1837,  61.2245,  63.2653,  65.3061,  67.3469,  69.3878,\n",
       "         71.4286,  73.4694,  75.5102,  77.5510,  79.5918,  81.6327,  83.6735,\n",
       "         85.7143,  87.7551,  89.7959,  91.8367,  93.8775,  95.9184,  97.9592,\n",
       "        100.0000])"
      ]
     },
     "execution_count": 10,
     "metadata": {},
     "output_type": "execute_result"
    }
   ],
   "source": [
    "torch.linspace(0,100,50)"
   ]
  },
  {
   "cell_type": "code",
   "execution_count": 11,
   "metadata": {},
   "outputs": [
    {
     "data": {
      "text/plain": [
       "torch.Size([2, 3])"
      ]
     },
     "execution_count": 11,
     "metadata": {},
     "output_type": "execute_result"
    }
   ],
   "source": [
    "torch.tensor([[1,2,3],[4,5,6]]).shape"
   ]
  },
  {
   "cell_type": "markdown",
   "metadata": {},
   "source": [
    "**You can change the shape of your tensor using `view()` method**"
   ]
  },
  {
   "cell_type": "code",
   "execution_count": 12,
   "metadata": {},
   "outputs": [
    {
     "data": {
      "text/plain": [
       "torch.Size([100, 50])"
      ]
     },
     "execution_count": 12,
     "metadata": {},
     "output_type": "execute_result"
    }
   ],
   "source": [
    "# First you have define your tensor\n",
    "a = torch.randn(100,50)\n",
    "a.shape"
   ]
  },
  {
   "cell_type": "code",
   "execution_count": 13,
   "metadata": {},
   "outputs": [
    {
     "data": {
      "text/plain": [
       "tensor([[ 2.3465, -0.1523, -0.1099,  ..., -0.9977,  0.1366,  0.6529],\n",
       "        [ 0.4495,  0.3155,  1.0180,  ..., -1.1277,  0.1135, -2.0971],\n",
       "        [ 0.5413,  0.2957, -0.2835,  ...,  2.2732, -0.2897, -1.9323],\n",
       "        ...,\n",
       "        [ 0.9279,  0.3097, -0.9403,  ..., -0.6331,  0.3805, -1.2397],\n",
       "        [ 1.2187, -0.9399,  0.4031,  ..., -0.4078, -0.1395, -2.5600],\n",
       "        [-0.0104, -0.0640, -0.5229,  ...,  0.8499, -1.5454, -0.8631]])"
      ]
     },
     "execution_count": 13,
     "metadata": {},
     "output_type": "execute_result"
    }
   ],
   "source": [
    "a"
   ]
  },
  {
   "cell_type": "code",
   "execution_count": 14,
   "metadata": {},
   "outputs": [
    {
     "data": {
      "text/plain": [
       "torch.Size([20, 5, 50])"
      ]
     },
     "execution_count": 14,
     "metadata": {},
     "output_type": "execute_result"
    }
   ],
   "source": [
    "# But you want to change the shape of your tensor to (20,5,50)\n",
    "a = a.view(20,5,50)\n",
    "a.shape"
   ]
  },
  {
   "cell_type": "code",
   "execution_count": 15,
   "metadata": {},
   "outputs": [
    {
     "data": {
      "text/plain": [
       "tensor([[[ 2.3465, -0.1523, -0.1099,  ..., -0.9977,  0.1366,  0.6529],\n",
       "         [ 0.4495,  0.3155,  1.0180,  ..., -1.1277,  0.1135, -2.0971],\n",
       "         [ 0.5413,  0.2957, -0.2835,  ...,  2.2732, -0.2897, -1.9323],\n",
       "         [-1.4318, -0.3812,  0.3202,  ..., -0.3517,  0.6387,  0.5531],\n",
       "         [ 1.5792, -0.9812, -0.0833,  ...,  0.5175, -0.7858, -0.0946]],\n",
       "\n",
       "        [[-0.0779, -1.8037, -1.2551,  ...,  0.8903, -2.1853, -0.2754],\n",
       "         [ 0.6441, -0.8693, -0.6957,  ..., -0.4034, -0.3256, -0.5418],\n",
       "         [ 1.5743,  0.6959,  0.9983,  ...,  0.9823,  1.9927,  1.0360],\n",
       "         [ 0.8842,  1.3297, -0.2926,  ...,  1.2852, -0.7905, -1.0077],\n",
       "         [ 0.7051, -0.3604, -0.5864,  ...,  0.2585, -1.3075,  0.4641]],\n",
       "\n",
       "        [[ 0.3751, -0.1363, -0.3405,  ...,  1.2024, -0.1862,  0.7128],\n",
       "         [ 0.0355, -1.6285,  1.4912,  ..., -0.1527,  0.0160, -0.8270],\n",
       "         [ 0.8643, -0.4054,  2.0784,  ...,  0.2623, -0.3568,  0.5100],\n",
       "         [ 0.0295, -0.3428,  0.5857,  ..., -0.3572,  0.0464, -0.2239],\n",
       "         [ 2.0938,  1.3990, -1.4181,  ...,  0.1170,  0.3618,  1.6513]],\n",
       "\n",
       "        ...,\n",
       "\n",
       "        [[ 0.0904, -0.1899,  1.7928,  ...,  1.1856, -0.9009,  0.9455],\n",
       "         [-0.9210, -0.1402, -1.4834,  ...,  0.0429,  0.9190, -0.9751],\n",
       "         [ 1.2445,  0.0555, -1.3969,  ...,  0.7899, -1.1533,  1.7080],\n",
       "         [-1.4987,  0.2093,  1.4494,  ..., -0.8298,  1.1277,  0.0790],\n",
       "         [-0.0697,  0.2824,  0.3027,  ..., -1.8599, -0.6613, -0.1287]],\n",
       "\n",
       "        [[ 1.0084, -1.6915, -0.3418,  ...,  0.4336, -0.5818,  0.1243],\n",
       "         [-0.5689,  0.6820, -2.9564,  ...,  0.1260, -1.2272, -0.0418],\n",
       "         [ 1.1136,  0.9803, -1.0008,  ...,  1.1321, -0.9460, -0.2420],\n",
       "         [-0.6944,  0.5425,  0.4506,  ..., -1.2627,  0.7664,  0.1346],\n",
       "         [ 0.0740,  0.1317, -0.2357,  ..., -1.0924, -0.5187, -0.3805]],\n",
       "\n",
       "        [[ 0.2917,  0.5850, -0.4291,  ..., -0.6278, -0.5170,  1.0570],\n",
       "         [ 1.1474,  1.5182, -1.4633,  ..., -0.7593,  0.1086,  0.2298],\n",
       "         [ 0.9279,  0.3097, -0.9403,  ..., -0.6331,  0.3805, -1.2397],\n",
       "         [ 1.2187, -0.9399,  0.4031,  ..., -0.4078, -0.1395, -2.5600],\n",
       "         [-0.0104, -0.0640, -0.5229,  ...,  0.8499, -1.5454, -0.8631]]])"
      ]
     },
     "execution_count": 15,
     "metadata": {},
     "output_type": "execute_result"
    }
   ],
   "source": [
    "# You can see your tensor have been changed\n",
    "a"
   ]
  },
  {
   "cell_type": "markdown",
   "metadata": {},
   "source": [
    "**How to know your tensor use CPU or GPU**"
   ]
  },
  {
   "cell_type": "code",
   "execution_count": 16,
   "metadata": {},
   "outputs": [
    {
     "data": {
      "text/plain": [
       "True"
      ]
     },
     "execution_count": 16,
     "metadata": {},
     "output_type": "execute_result"
    }
   ],
   "source": [
    "# First you need to check your CUDA is avaiable\n",
    "torch.cuda.is_available()"
   ]
  },
  {
   "cell_type": "markdown",
   "metadata": {},
   "source": [
    " Assumming that you get True, then you can continue with the following operations."
   ]
  },
  {
   "cell_type": "code",
   "execution_count": 17,
   "metadata": {},
   "outputs": [],
   "source": [
    "# A torch.device is an object representing the device on which a torch.Tensor is or will be allocated.\n",
    "cpu = torch.device(\"cpu\")\n",
    "gpu = torch.device(\"cuda:0\") # GPU 0"
   ]
  },
  {
   "cell_type": "code",
   "execution_count": 18,
   "metadata": {},
   "outputs": [
    {
     "data": {
      "text/plain": [
       "device(type='cpu')"
      ]
     },
     "execution_count": 18,
     "metadata": {},
     "output_type": "execute_result"
    }
   ],
   "source": [
    "# In the default your tensor is allocated in CPU\n",
    "x = torch.ones(3,3)\n",
    "x.device"
   ]
  },
  {
   "cell_type": "code",
   "execution_count": 19,
   "metadata": {},
   "outputs": [
    {
     "data": {
      "text/plain": [
       "device(type='cuda', index=0)"
      ]
     },
     "execution_count": 19,
     "metadata": {},
     "output_type": "execute_result"
    }
   ],
   "source": [
    "# Create your tensor to be allocated in GPU for computing\n",
    "x = torch.ones(3,3, device=gpu)\n",
    "x.device"
   ]
  },
  {
   "cell_type": "code",
   "execution_count": 20,
   "metadata": {},
   "outputs": [
    {
     "name": "stdout",
     "output_type": "stream",
     "text": [
      "CPU to GPU: cuda:0\n",
      "GPU to CPU: cpu\n"
     ]
    }
   ],
   "source": [
    "# Transfrom CPU to GPU\n",
    "x=torch.ones(3,3).cuda(0)\n",
    "print(\"CPU to GPU:\",x.device)\n",
    "\n",
    "# Transfrom GPU to CPU\n",
    "x=torch.ones(3,3, device=gpu).cpu()\n",
    "print(\"GPU to CPU:\",x.device)\n"
   ]
  },
  {
   "cell_type": "markdown",
   "metadata": {},
   "source": [
    "**Compare time tensor allocated in CPU with GPU**"
   ]
  },
  {
   "cell_type": "code",
   "execution_count": 23,
   "metadata": {},
   "outputs": [
    {
     "name": "stdout",
     "output_type": "stream",
     "text": [
      "Allocated CPU:  20.14239764213562 (s)\n"
     ]
    }
   ],
   "source": [
    "# Time in CPU\n",
    "import time\n",
    "x = torch.rand(10000,10000)\n",
    "y = torch.rand(10000,10000)\n",
    "start = time.time()\n",
    "z = x@y\n",
    "end = time.time()\n",
    "print(\"Allocated CPU: \", end-start, \"(s)\")"
   ]
  },
  {
   "cell_type": "code",
   "execution_count": 24,
   "metadata": {},
   "outputs": [
    {
     "name": "stdout",
     "output_type": "stream",
     "text": [
      "Allocated GPU:  18.394776344299316 (s)\n"
     ]
    }
   ],
   "source": [
    "# Time in GPU\n",
    "xc = x.cuda(0)\n",
    "yc = y.cuda(0)\n",
    "start = time.time()\n",
    "z = x@y\n",
    "end = time.time()\n",
    "print(\"Allocated GPU: \", end-start, \"(s)\")"
   ]
  },
  {
   "cell_type": "markdown",
   "metadata": {},
   "source": [
    "*The result is not too much different because of my GPU is very weak*. The stronger of you GPU, the more powerful of tensor allocated in GPU is observed"
   ]
  },
  {
   "cell_type": "markdown",
   "metadata": {},
   "source": [
    "**Convert from numpy array to tensor in pytorch**"
   ]
  },
  {
   "cell_type": "code",
   "execution_count": 25,
   "metadata": {},
   "outputs": [
    {
     "name": "stdout",
     "output_type": "stream",
     "text": [
      "Numpy: [1 2 3 4 5 6 7 8 9]\n",
      "Pytorch: tensor([1, 2, 3, 4, 5, 6, 7, 8, 9], dtype=torch.int32)\n"
     ]
    }
   ],
   "source": [
    "# Create a array by numpy\n",
    "arr = np.array([1,2,3,4,5,6,7,8,9])\n",
    "\n",
    "#From NumPy to Torch\n",
    "pyt = torch.from_numpy(arr)\n",
    "print('Numpy:',arr)\n",
    "print('Pytorch:',pyt)"
   ]
  }
 ],
 "metadata": {
  "kernelspec": {
   "display_name": "Python 3",
   "language": "python",
   "name": "python3"
  },
  "language_info": {
   "codemirror_mode": {
    "name": "ipython",
    "version": 3
   },
   "file_extension": ".py",
   "mimetype": "text/x-python",
   "name": "python",
   "nbconvert_exporter": "python",
   "pygments_lexer": "ipython3",
   "version": "3.8.5"
  }
 },
 "nbformat": 4,
 "nbformat_minor": 5
}
