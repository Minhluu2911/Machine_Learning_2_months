{
 "cells": [
  {
   "cell_type": "markdown",
   "metadata": {},
   "source": [
    "# K-Nearest Neighbors (KNN)\n",
    "\n",
    "## What is it algorithm?\n",
    "- That is use to classify given data point based on the point that is more similar to it\n",
    "- This is an algorithm that is consider non-parametric and lazy learning\n",
    "  - Non-parametric: this algorithm do not make any assumptions. It is just predict based on entirely your given data (test data)\n",
    "  - Lazy programming: this algorithm also make no generalizations so there is little or do not involve training when using this method.\n",
    "\n",
    "## Why we using this algorithm?\n",
    "- This algorithm is simple and very easy to implement\n",
    "- We do not need to build model or tune many parameters\n",
    "- It is also versatile because:\n",
    "  -  KNN can be used for classification — the output is a class membership (predicts a class — a discrete value).\n",
    "  -  It can also be used for regression — output is the value for the object (predicts continuous values)\n",
    "\n",
    "## How KNN work?\n",
    "I use the below picture for explaining the process of how KNN work.\n",
    "- **Firstly**, we must define a function calculate the distance between new data point (data have not been classified) and the all know data point (training data).\n",
    "- **Secondly**, when you have all the distances value then you can sort all the training data according to the distance you have calculated. After that you have neighbors (data points) are in order from low distance to high distance with respect to the new data point.\n",
    "- **Finally**, you can make prediction. Depending what **k** you are choosing, you take the first k data points in the sorted training data set above and count times appear in each label. The label have the highest value appear in the k data points is the prediction.\n",
    "![](https://miro.medium.com/max/2112/1*9mN0mO61lmoj0-95i-vV7A.png)\n",
    "\n",
    "<hr>"
   ]
  },
  {
   "cell_type": "code",
   "execution_count": 1,
   "metadata": {},
   "outputs": [],
   "source": [
    "# import some important library\n",
    "import numpy as np\n",
    "import matplotlib.pyplot as plot\n",
    "%matplotlib inline"
   ]
  },
  {
   "cell_type": "markdown",
   "metadata": {},
   "source": [
    "**Calculate Euclidean distance**\n",
    "- We must calculate the distance between 2 data point to see how they are close by using Euclidean distance measure\n",
    "- It is calculated as the square root of the sum of the squared difference between 2 vectors\n",
    "- One dimension:\n",
    "  - $d(p,q)$ = $|p-q|$\n",
    "- Two dimensions:\n",
    "  - $d(p,q)$ = $\\sqrt{(p_1-q_1)^2 + (p_2-q_2)^2}$\n",
    "- Three dimensions:\n",
    "  - $d(p,q)$ = $\\sqrt{(p_1-q_1)^2 + (p_2-q_2)^2 + (p_3-q_3)^2}$\n",
    "- n-dimensions:\n",
    "  - $d(p,q)$ = $\\sqrt{(p_1-q_1)^2 + (p_2-q_2)^2 + ... + (p_n-q_n)^2}$\n",
    "  \n",
    "- For more information check out: [Euclidean distance Wikipedia](https://en.wikipedia.org/wiki/Euclidean_distance#:~:text=In%20mathematics%2C%20the%20Euclidean%20distance,being%20called%20the%20Pythagorean%20distance.)"
   ]
  },
  {
   "cell_type": "code",
   "execution_count": 2,
   "metadata": {},
   "outputs": [
    {
     "data": {
      "text/plain": [
       "14.422205101855956"
      ]
     },
     "execution_count": 2,
     "metadata": {},
     "output_type": "execute_result"
    }
   ],
   "source": [
    "# We can use library to calculate Euclidean distance\n",
    "from math import dist # to use function for calculating euclidean distance between 2 vector\n",
    "\n",
    "np.random.seed(100)\n",
    "a = np.random.randint(0,10,10)\n",
    "b = np.random.randint(0,10,10)\n",
    "dist(a[:len(a)-1],b[:len(b)-1]) # in here we want the last column is the output so we do not include it to calculate distance"
   ]
  },
  {
   "cell_type": "code",
   "execution_count": 3,
   "metadata": {},
   "outputs": [],
   "source": [
    "# Or we can define function to calculate Euclidean distance between 2 vector\n",
    "from math import sqrt\n",
    "\n",
    "def Euclidean_distance(vec1, vec2):\n",
    "    distance = 0\n",
    "    for i in range(len(vec1)-1):  # we define funtion also do not consider the last column to calculate distance\n",
    "        distance += (vec1[i] - vec2[i])**2\n",
    "    return sqrt(distance)"
   ]
  },
  {
   "cell_type": "code",
   "execution_count": 4,
   "metadata": {},
   "outputs": [
    {
     "data": {
      "text/plain": [
       "14.422205101855956"
      ]
     },
     "execution_count": 4,
     "metadata": {},
     "output_type": "execute_result"
    }
   ],
   "source": [
    "Euclidean_distance(a,b)"
   ]
  },
  {
   "cell_type": "markdown",
   "metadata": {},
   "source": [
    "<hr>\n",
    "\n",
    "**Get neighbors**\n",
    "- We will find *k* closest instances, as defined by our distance measure.\n",
    "  - First, we calculate the distance between our given data points with new data by Euclidean distance measure.\n",
    "  - Second, we sort all the records by distance\n",
    "  - Finally, we can select the top *k* to get the most k data point neighbors"
   ]
  },
  {
   "cell_type": "code",
   "execution_count": 5,
   "metadata": {},
   "outputs": [],
   "source": [
    "def get_neighbors(train_data, new_data, k):\n",
    "    distances = []\n",
    "    for train in train_data:\n",
    "        distances.append((train,dist(train,new_data)));\n",
    "    # sorting accoring to distances between 2 vectors\n",
    "    distances.sort(key = lambda x: x[1])\n",
    "    neighbors = []\n",
    "    for i in range(k):\n",
    "        neighbors.append(distances[i][0])\n",
    "    return neighbors"
   ]
  },
  {
   "cell_type": "markdown",
   "metadata": {},
   "source": [
    "Write small program to test our function get_neighbor"
   ]
  },
  {
   "cell_type": "code",
   "execution_count": 6,
   "metadata": {},
   "outputs": [
    {
     "name": "stdout",
     "output_type": "stream",
     "text": [
      "With neighbor: [2.7810836, 2.550537003, 0] . Distance: 0.0\n",
      "With neighbor: [3.06407232, 3.005305973, 0] . Distance: 0.5356280721938492\n",
      "With neighbor: [1.465489372, 2.362125076, 0] . Distance: 1.3290173915275787\n",
      "With neighbor: [1.38807019, 1.850220317, 0] . Distance: 1.559143938554055\n",
      "With neighbor: [3.396561688, 4.400293529, 0] . Distance: 1.9494646655653247\n",
      "With neighbor: [5.332441248, 2.088626775, 1] . Distance: 2.7789902674782985\n",
      "With neighbor: [6.922596716, 1.77106367, 1] . Distance: 4.3312480380207\n",
      "With neighbor: [7.627531214, 2.759262235, 1] . Distance: 4.952940611164215\n",
      "With neighbor: [7.673756466, 3.508563011, 1] . Distance: 5.084885603993179\n",
      "With neighbor: [8.675418651, -0.242068655, 1] . Distance: 6.59862349695304\n"
     ]
    }
   ],
   "source": [
    "# Test get_neighbors function\n",
    "dataset = [\n",
    "            [2.7810836,2.550537003,0],\n",
    "            [1.465489372,2.362125076,0],\n",
    "            [3.396561688,4.400293529,0],\n",
    "            [1.38807019,1.850220317,0],\n",
    "            [3.06407232,3.005305973,0],\n",
    "            [7.627531214,2.759262235,1],\n",
    "            [5.332441248,2.088626775,1],\n",
    "            [6.922596716,1.77106367,1],\n",
    "            [8.675418651,-0.242068655,1],\n",
    "            [7.673756466,3.508563011,1]]\n",
    "neighbors = get_neighbors(dataset, dataset[0], len(dataset))\n",
    "for neighbor in neighbors:\n",
    "    print(\"With neighbor: {} . Distance: {}\".format(neighbor,dist(neighbor,dataset[0])))"
   ]
  },
  {
   "cell_type": "markdown",
   "metadata": {},
   "source": [
    "<hr>\n",
    "\n",
    "**KNN Predict**\n",
    "- From k nearst data point, we choose the label that has the highest times appear"
   ]
  },
  {
   "cell_type": "code",
   "execution_count": 7,
   "metadata": {},
   "outputs": [],
   "source": [
    "from collections import Counter\n",
    "def predict_KNN(train, new_data, k):\n",
    "    neighbors = get_neighbors(train, new_data, k);\n",
    "    \n",
    "    # get the most label in k neigbor\n",
    "    output = [y[-1] for y in neighbors]\n",
    "    return Counter(output).most_common(1)[0][0]\n",
    "    "
   ]
  },
  {
   "cell_type": "code",
   "execution_count": 8,
   "metadata": {},
   "outputs": [
    {
     "data": {
      "text/plain": [
       "1"
      ]
     },
     "execution_count": 8,
     "metadata": {},
     "output_type": "execute_result"
    }
   ],
   "source": [
    "predict_KNN(dataset,dataset[-1],3)"
   ]
  },
  {
   "cell_type": "markdown",
   "metadata": {},
   "source": [
    "the predict is same as real output"
   ]
  },
  {
   "cell_type": "code",
   "execution_count": 10,
   "metadata": {},
   "outputs": [
    {
     "data": {
      "text/plain": [
       "1"
      ]
     },
     "execution_count": 10,
     "metadata": {},
     "output_type": "execute_result"
    }
   ],
   "source": [
    "dataset[-1][-1]"
   ]
  }
 ],
 "metadata": {
  "kernelspec": {
   "display_name": "Python 3",
   "language": "python",
   "name": "python3"
  },
  "language_info": {
   "codemirror_mode": {
    "name": "ipython",
    "version": 3
   },
   "file_extension": ".py",
   "mimetype": "text/x-python",
   "name": "python",
   "nbconvert_exporter": "python",
   "pygments_lexer": "ipython3",
   "version": "3.8.5"
  }
 },
 "nbformat": 4,
 "nbformat_minor": 5
}
