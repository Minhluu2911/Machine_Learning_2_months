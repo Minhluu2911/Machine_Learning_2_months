{
 "cells": [
  {
   "cell_type": "markdown",
   "id": "awful-bahamas",
   "metadata": {},
   "source": [
    "# First the question that I always ask to myself is \"What is it and Why we are using it?\""
   ]
  },
  {
   "cell_type": "markdown",
   "id": "medium-begin",
   "metadata": {},
   "source": [
    "### What is Numpy?\n",
    "- Numpy is a Python library used for working with arrays\n",
    "\n",
    "### Why use Numpy when we also have list to working with arrays in Python?\n",
    "- Yes, you are right. In Python we have list to working with array but they are very slow to process if you have a tremendous of data.\n",
    "- Numpy provide array object that is 50x faster than list in Python and it provide a lot of function for working with arrays"
   ]
  },
  {
   "cell_type": "markdown",
   "id": "plain-rescue",
   "metadata": {},
   "source": [
    "### For more information: https://github.com/numpy/numpy\n"
   ]
  },
  {
   "cell_type": "markdown",
   "id": "cheap-mechanism",
   "metadata": {},
   "source": [
    "<hr>"
   ]
  },
  {
   "cell_type": "code",
   "execution_count": 1,
   "id": "regional-prior",
   "metadata": {},
   "outputs": [],
   "source": [
    "# We need to import it to use\n",
    "import numpy as np"
   ]
  },
  {
   "cell_type": "code",
   "execution_count": 2,
   "id": "early-leone",
   "metadata": {},
   "outputs": [
    {
     "data": {
      "text/plain": [
       "array(['1', 'a', 'bc'], dtype='<U11')"
      ]
     },
     "execution_count": 2,
     "metadata": {},
     "output_type": "execute_result"
    }
   ],
   "source": [
    "# We can convert a traditional list in Python to Numpy array\n",
    "list1 = [1, 'a' , 'bc']\n",
    "arr1 = np.array(list1)\n",
    "arr1"
   ]
  },
  {
   "cell_type": "code",
   "execution_count": 3,
   "id": "rising-corps",
   "metadata": {},
   "outputs": [],
   "source": [
    "# 2-D array\n",
    "matrix2d = [[1,2,3],[4,5,6],[7,8,9]]\n",
    "arr2 = np.array(matrix2d)"
   ]
  },
  {
   "cell_type": "markdown",
   "id": "sonic-table",
   "metadata": {},
   "source": [
    "### Built-in methods"
   ]
  },
  {
   "cell_type": "markdown",
   "id": "wrapped-newman",
   "metadata": {},
   "source": [
    "- **arange()**: return array with given interval\n",
    "- **zeros()**: generate arrays of zeros\n",
    "- **ones()**: generate arrays of ones\n",
    "- **linspace()**: return numeric sequences in given interval\n",
    "- **eye()**: create indentity matrix\n",
    "- **shape()**: return shape of the array\n",
    "- **reshape()**: reshape the array\n",
    "- **random.rand()**: create an array of given with random number from a \"uniform distribution\" over [0,1)\n",
    "- **random.randn()**: create an array of given with random number from a \"standard normal\" distribution\n",
    "- **random.randint()**: return random integers from `low` (inclusive) to `high` (exclusive)\n",
    "- **max()**: return max value of the array\n",
    "- **argmax()**: return index of max value of the array\n",
    "- **min()**: return min value of the array\n",
    "- **argmin()**: return index of min value of the array"
   ]
  },
  {
   "cell_type": "code",
   "execution_count": 4,
   "id": "framed-heather",
   "metadata": {},
   "outputs": [
    {
     "data": {
      "text/plain": [
       "array([0, 1, 2, 3, 4, 5, 6, 7, 8, 9])"
      ]
     },
     "execution_count": 4,
     "metadata": {},
     "output_type": "execute_result"
    }
   ],
   "source": [
    "np.arange(0,10)"
   ]
  },
  {
   "cell_type": "code",
   "execution_count": 5,
   "id": "aggregate-furniture",
   "metadata": {},
   "outputs": [
    {
     "data": {
      "text/plain": [
       "array([0, 2, 4, 6, 8])"
      ]
     },
     "execution_count": 5,
     "metadata": {},
     "output_type": "execute_result"
    }
   ],
   "source": [
    "np.arange(0,10,2)"
   ]
  },
  {
   "cell_type": "code",
   "execution_count": 6,
   "id": "numeric-woman",
   "metadata": {},
   "outputs": [
    {
     "data": {
      "text/plain": [
       "array([[0., 0., 0.],\n",
       "       [0., 0., 0.],\n",
       "       [0., 0., 0.]])"
      ]
     },
     "execution_count": 6,
     "metadata": {},
     "output_type": "execute_result"
    }
   ],
   "source": [
    "np.zeros((3,3))"
   ]
  },
  {
   "cell_type": "code",
   "execution_count": 7,
   "id": "resistant-detection",
   "metadata": {},
   "outputs": [
    {
     "data": {
      "text/plain": [
       "array([[1., 1., 1.],\n",
       "       [1., 1., 1.],\n",
       "       [1., 1., 1.]])"
      ]
     },
     "execution_count": 7,
     "metadata": {},
     "output_type": "execute_result"
    }
   ],
   "source": [
    "np.ones((3,3))"
   ]
  },
  {
   "cell_type": "code",
   "execution_count": 8,
   "id": "convertible-flower",
   "metadata": {},
   "outputs": [
    {
     "data": {
      "text/plain": [
       "array([  0.,  50., 100.])"
      ]
     },
     "execution_count": 8,
     "metadata": {},
     "output_type": "execute_result"
    }
   ],
   "source": [
    "np.linspace(0,100,3)"
   ]
  },
  {
   "cell_type": "code",
   "execution_count": 9,
   "id": "interesting-cleaning",
   "metadata": {},
   "outputs": [
    {
     "data": {
      "text/plain": [
       "array([  0.        ,   2.04081633,   4.08163265,   6.12244898,\n",
       "         8.16326531,  10.20408163,  12.24489796,  14.28571429,\n",
       "        16.32653061,  18.36734694,  20.40816327,  22.44897959,\n",
       "        24.48979592,  26.53061224,  28.57142857,  30.6122449 ,\n",
       "        32.65306122,  34.69387755,  36.73469388,  38.7755102 ,\n",
       "        40.81632653,  42.85714286,  44.89795918,  46.93877551,\n",
       "        48.97959184,  51.02040816,  53.06122449,  55.10204082,\n",
       "        57.14285714,  59.18367347,  61.2244898 ,  63.26530612,\n",
       "        65.30612245,  67.34693878,  69.3877551 ,  71.42857143,\n",
       "        73.46938776,  75.51020408,  77.55102041,  79.59183673,\n",
       "        81.63265306,  83.67346939,  85.71428571,  87.75510204,\n",
       "        89.79591837,  91.83673469,  93.87755102,  95.91836735,\n",
       "        97.95918367, 100.        ])"
      ]
     },
     "execution_count": 9,
     "metadata": {},
     "output_type": "execute_result"
    }
   ],
   "source": [
    "np.linspace(0,100,50)"
   ]
  },
  {
   "cell_type": "code",
   "execution_count": 10,
   "id": "stopped-smart",
   "metadata": {},
   "outputs": [
    {
     "data": {
      "text/plain": [
       "array([[1., 0., 0.],\n",
       "       [0., 1., 0.],\n",
       "       [0., 0., 1.]])"
      ]
     },
     "execution_count": 10,
     "metadata": {},
     "output_type": "execute_result"
    }
   ],
   "source": [
    "np.eye(3)"
   ]
  },
  {
   "cell_type": "code",
   "execution_count": 11,
   "id": "imposed-excellence",
   "metadata": {},
   "outputs": [
    {
     "data": {
      "text/plain": [
       "(25,)"
      ]
     },
     "execution_count": 11,
     "metadata": {},
     "output_type": "execute_result"
    }
   ],
   "source": [
    "arr1 = np.arange(25)\n",
    "arr1.shape"
   ]
  },
  {
   "cell_type": "code",
   "execution_count": 12,
   "id": "unusual-yellow",
   "metadata": {},
   "outputs": [
    {
     "data": {
      "text/plain": [
       "(5, 5)"
      ]
     },
     "execution_count": 12,
     "metadata": {},
     "output_type": "execute_result"
    }
   ],
   "source": [
    "arr1.reshape((5,5)).shape"
   ]
  },
  {
   "cell_type": "code",
   "execution_count": 13,
   "id": "built-tuesday",
   "metadata": {},
   "outputs": [
    {
     "data": {
      "text/plain": [
       "array([ 0,  1,  2,  3,  4,  5,  6,  7,  8,  9, 10, 11, 12, 13, 14, 15, 16,\n",
       "       17, 18, 19, 20, 21, 22, 23, 24])"
      ]
     },
     "execution_count": 13,
     "metadata": {},
     "output_type": "execute_result"
    }
   ],
   "source": [
    "arr1"
   ]
  },
  {
   "cell_type": "code",
   "execution_count": 14,
   "id": "biological-police",
   "metadata": {},
   "outputs": [
    {
     "data": {
      "text/plain": [
       "array([[ 0,  1,  2,  3,  4],\n",
       "       [ 5,  6,  7,  8,  9],\n",
       "       [10, 11, 12, 13, 14],\n",
       "       [15, 16, 17, 18, 19],\n",
       "       [20, 21, 22, 23, 24]])"
      ]
     },
     "execution_count": 14,
     "metadata": {},
     "output_type": "execute_result"
    }
   ],
   "source": [
    "arr1.reshape((5,5))"
   ]
  },
  {
   "cell_type": "markdown",
   "id": "smaller-quality",
   "metadata": {},
   "source": [
    "**random.rand**"
   ]
  },
  {
   "cell_type": "code",
   "execution_count": 15,
   "id": "falling-institute",
   "metadata": {},
   "outputs": [
    {
     "data": {
      "text/plain": [
       "array([0.27152586, 0.05009503, 0.93461179, 0.46737791, 0.35114332,\n",
       "       0.73872093, 0.96188882, 0.31782038, 0.8866254 , 0.32864282])"
      ]
     },
     "execution_count": 15,
     "metadata": {},
     "output_type": "execute_result"
    }
   ],
   "source": [
    "np.random.rand(10)"
   ]
  },
  {
   "cell_type": "code",
   "execution_count": 16,
   "id": "another-matrix",
   "metadata": {},
   "outputs": [
    {
     "data": {
      "text/plain": [
       "array([[0.99127774, 0.31133393, 0.56553548],\n",
       "       [0.22079148, 0.54840367, 0.8076339 ],\n",
       "       [0.51728855, 0.43201919, 0.76719332]])"
      ]
     },
     "execution_count": 16,
     "metadata": {},
     "output_type": "execute_result"
    }
   ],
   "source": [
    "np.random.rand(3,3)"
   ]
  },
  {
   "cell_type": "code",
   "execution_count": 17,
   "id": "available-compensation",
   "metadata": {},
   "outputs": [
    {
     "data": {
      "text/plain": [
       "array([[[0.3099036 , 0.37184236, 0.50169032],\n",
       "        [0.78233714, 0.11329928, 0.95175829],\n",
       "        [0.42606063, 0.57904299, 0.62096578]],\n",
       "\n",
       "       [[0.33715415, 0.20584457, 0.17643197],\n",
       "        [0.71708464, 0.70529123, 0.0426447 ],\n",
       "        [0.22630241, 0.56879855, 0.52251073]],\n",
       "\n",
       "       [[0.94919564, 0.22147465, 0.61464422],\n",
       "        [0.76260588, 0.41805472, 0.99564015],\n",
       "        [0.15265754, 0.4683089 , 0.80210096]]])"
      ]
     },
     "execution_count": 17,
     "metadata": {},
     "output_type": "execute_result"
    }
   ],
   "source": [
    "np.random.rand(3,3,3)"
   ]
  },
  {
   "cell_type": "markdown",
   "id": "theoretical-discovery",
   "metadata": {},
   "source": [
    "**random.randn**"
   ]
  },
  {
   "cell_type": "code",
   "execution_count": 18,
   "id": "incorporated-interference",
   "metadata": {},
   "outputs": [
    {
     "data": {
      "text/plain": [
       "array([ 1.93604841, -0.63758291, -0.55452222, -0.23473331, -0.30024468,\n",
       "       -0.66146052,  0.15243317, -1.19114734,  0.3178689 ,  0.45714184])"
      ]
     },
     "execution_count": 18,
     "metadata": {},
     "output_type": "execute_result"
    }
   ],
   "source": [
    "np.random.randn(10)"
   ]
  },
  {
   "cell_type": "code",
   "execution_count": 19,
   "id": "piano-signal",
   "metadata": {},
   "outputs": [
    {
     "data": {
      "text/plain": [
       "array([[ 0.11439862,  0.39614113, -0.04230782],\n",
       "       [ 1.47892839,  1.01391379,  0.15201045],\n",
       "       [-0.19731869, -1.21636619, -0.7647463 ]])"
      ]
     },
     "execution_count": 19,
     "metadata": {},
     "output_type": "execute_result"
    }
   ],
   "source": [
    "np.random.randn(3,3)"
   ]
  },
  {
   "cell_type": "code",
   "execution_count": 20,
   "id": "informed-transformation",
   "metadata": {},
   "outputs": [
    {
     "data": {
      "text/plain": [
       "array([[[0.14802884, 0.69465755, 0.65407587],\n",
       "        [0.83665981, 0.31785548, 0.65326764],\n",
       "        [0.78234931, 0.46908775, 0.67265208]],\n",
       "\n",
       "       [[0.58492808, 0.22348328, 0.19649045],\n",
       "        [0.28289574, 0.8665464 , 0.79725191],\n",
       "        [0.13496238, 0.58250783, 0.25301297]],\n",
       "\n",
       "       [[0.87386542, 0.19747058, 0.73653303],\n",
       "        [0.57499835, 0.0060141 , 0.29288247],\n",
       "        [0.19288124, 0.55123706, 0.02558014]]])"
      ]
     },
     "execution_count": 20,
     "metadata": {},
     "output_type": "execute_result"
    }
   ],
   "source": [
    "np.random.rand(3,3,3)"
   ]
  },
  {
   "cell_type": "markdown",
   "id": "single-edwards",
   "metadata": {},
   "source": [
    "**random.randint**"
   ]
  },
  {
   "cell_type": "code",
   "execution_count": 21,
   "id": "lyric-terminal",
   "metadata": {},
   "outputs": [
    {
     "data": {
      "text/plain": [
       "6"
      ]
     },
     "execution_count": 21,
     "metadata": {},
     "output_type": "execute_result"
    }
   ],
   "source": [
    "np.random.randint(0,10)"
   ]
  },
  {
   "cell_type": "code",
   "execution_count": 22,
   "id": "million-payday",
   "metadata": {},
   "outputs": [
    {
     "data": {
      "text/plain": [
       "array([95, 71, 50, 54, 77, 79, 49,  3, 63, 92])"
      ]
     },
     "execution_count": 22,
     "metadata": {},
     "output_type": "execute_result"
    }
   ],
   "source": [
    "np.random.randint(0,100,10)"
   ]
  },
  {
   "cell_type": "markdown",
   "id": "falling-meditation",
   "metadata": {},
   "source": [
    "**max,min**"
   ]
  },
  {
   "cell_type": "code",
   "execution_count": 23,
   "id": "spread-sudan",
   "metadata": {},
   "outputs": [
    {
     "data": {
      "text/plain": [
       "array([75, 90, 52,  1, 65, 11, 48, 57, 11, 66])"
      ]
     },
     "execution_count": 23,
     "metadata": {},
     "output_type": "execute_result"
    }
   ],
   "source": [
    "newarr = np.random.randint(0,100,10)\n",
    "newarr"
   ]
  },
  {
   "cell_type": "code",
   "execution_count": 24,
   "id": "rural-labor",
   "metadata": {},
   "outputs": [
    {
     "data": {
      "text/plain": [
       "90"
      ]
     },
     "execution_count": 24,
     "metadata": {},
     "output_type": "execute_result"
    }
   ],
   "source": [
    "newarr.max()"
   ]
  },
  {
   "cell_type": "code",
   "execution_count": 25,
   "id": "sticky-browser",
   "metadata": {},
   "outputs": [
    {
     "data": {
      "text/plain": [
       "1"
      ]
     },
     "execution_count": 25,
     "metadata": {},
     "output_type": "execute_result"
    }
   ],
   "source": [
    "newarr.argmax() # index start at 0"
   ]
  },
  {
   "cell_type": "code",
   "execution_count": 26,
   "id": "professional-accommodation",
   "metadata": {},
   "outputs": [
    {
     "data": {
      "text/plain": [
       "1"
      ]
     },
     "execution_count": 26,
     "metadata": {},
     "output_type": "execute_result"
    }
   ],
   "source": [
    "newarr.min()"
   ]
  },
  {
   "cell_type": "code",
   "execution_count": 27,
   "id": "superb-forest",
   "metadata": {},
   "outputs": [
    {
     "data": {
      "text/plain": [
       "3"
      ]
     },
     "execution_count": 27,
     "metadata": {},
     "output_type": "execute_result"
    }
   ],
   "source": [
    "newarr.argmin()"
   ]
  },
  {
   "cell_type": "markdown",
   "id": "attractive-praise",
   "metadata": {},
   "source": [
    "<hr>"
   ]
  },
  {
   "cell_type": "markdown",
   "id": "massive-casino",
   "metadata": {},
   "source": [
    "### Interacting with array using square bracket"
   ]
  },
  {
   "cell_type": "code",
   "execution_count": 28,
   "id": "owned-transport",
   "metadata": {},
   "outputs": [
    {
     "data": {
      "text/plain": [
       "array([ 0,  1,  2,  3,  4,  5,  6,  7,  8,  9, 10])"
      ]
     },
     "execution_count": 28,
     "metadata": {},
     "output_type": "execute_result"
    }
   ],
   "source": [
    "# Create sample array to use\n",
    "arr = np.arange(0,11)\n",
    "arr"
   ]
  },
  {
   "cell_type": "code",
   "execution_count": 29,
   "id": "fifth-excuse",
   "metadata": {},
   "outputs": [
    {
     "data": {
      "text/plain": [
       "4"
      ]
     },
     "execution_count": 29,
     "metadata": {},
     "output_type": "execute_result"
    }
   ],
   "source": [
    "# get value at index\n",
    "arr[4]"
   ]
  },
  {
   "cell_type": "code",
   "execution_count": 30,
   "id": "sorted-pathology",
   "metadata": {},
   "outputs": [
    {
     "data": {
      "text/plain": [
       "array([0, 1, 2, 3])"
      ]
     },
     "execution_count": 30,
     "metadata": {},
     "output_type": "execute_result"
    }
   ],
   "source": [
    "# get interval of value\n",
    "arr[0:4]"
   ]
  },
  {
   "cell_type": "code",
   "execution_count": 31,
   "id": "hairy-tunnel",
   "metadata": {},
   "outputs": [
    {
     "data": {
      "text/plain": [
       "array([  0,   1,   2,   3,   4, 100,   6,   7,   8,   9,  10])"
      ]
     },
     "execution_count": 31,
     "metadata": {},
     "output_type": "execute_result"
    }
   ],
   "source": [
    "# change value at index\n",
    "arr[5] = 100\n",
    "arr"
   ]
  },
  {
   "cell_type": "code",
   "execution_count": 32,
   "id": "posted-browser",
   "metadata": {},
   "outputs": [
    {
     "data": {
      "text/plain": [
       "array([100, 100,   2,   3,   4, 100,   6,   7,   8,   9,  10])"
      ]
     },
     "execution_count": 32,
     "metadata": {},
     "output_type": "execute_result"
    }
   ],
   "source": [
    "# change value with a range of index\n",
    "arr[0:2] = 100\n",
    "arr"
   ]
  },
  {
   "cell_type": "code",
   "execution_count": 33,
   "id": "better-funeral",
   "metadata": {},
   "outputs": [
    {
     "data": {
      "text/plain": [
       "array([ 99,  99,  99,  99,  99, 100,   6,   7,   8,   9,  10])"
      ]
     },
     "execution_count": 33,
     "metadata": {},
     "output_type": "execute_result"
    }
   ],
   "source": [
    "# change value in small_arr affect original array\n",
    "small = arr[0:5]\n",
    "small[:] = 99\n",
    "arr"
   ]
  },
  {
   "cell_type": "code",
   "execution_count": 34,
   "id": "pacific-processing",
   "metadata": {},
   "outputs": [
    {
     "data": {
      "text/plain": [
       "array([0, 0, 0, 0, 0, 0, 0, 0, 0, 0, 0])"
      ]
     },
     "execution_count": 34,
     "metadata": {},
     "output_type": "execute_result"
    }
   ],
   "source": [
    "# Therefore, you need to have a copy of orginal array\n",
    "copy_arr = arr.copy()\n",
    "copy_arr[:] = 0\n",
    "copy_arr"
   ]
  },
  {
   "cell_type": "code",
   "execution_count": 35,
   "id": "strong-baghdad",
   "metadata": {},
   "outputs": [
    {
     "data": {
      "text/plain": [
       "array([ 99,  99,  99,  99,  99, 100,   6,   7,   8,   9,  10])"
      ]
     },
     "execution_count": 35,
     "metadata": {},
     "output_type": "execute_result"
    }
   ],
   "source": [
    "arr"
   ]
  },
  {
   "cell_type": "markdown",
   "id": "focal-longer",
   "metadata": {},
   "source": [
    "**2-D array**"
   ]
  },
  {
   "cell_type": "code",
   "execution_count": 36,
   "id": "departmental-questionnaire",
   "metadata": {},
   "outputs": [
    {
     "data": {
      "text/plain": [
       "array([[1, 2, 3],\n",
       "       [4, 5, 6],\n",
       "       [7, 8, 9]])"
      ]
     },
     "execution_count": 36,
     "metadata": {},
     "output_type": "execute_result"
    }
   ],
   "source": [
    "arr_2d = np.array(([1,2,3],[4,5,6],[7,8,9]))\n",
    "arr_2d"
   ]
  },
  {
   "cell_type": "code",
   "execution_count": 37,
   "id": "graduate-offense",
   "metadata": {},
   "outputs": [
    {
     "data": {
      "text/plain": [
       "array([1, 2, 3])"
      ]
     },
     "execution_count": 37,
     "metadata": {},
     "output_type": "execute_result"
    }
   ],
   "source": [
    "# select row\n",
    "arr_2d[0]"
   ]
  },
  {
   "cell_type": "code",
   "execution_count": 38,
   "id": "viral-square",
   "metadata": {},
   "outputs": [
    {
     "data": {
      "text/plain": [
       "array([1, 4, 7])"
      ]
     },
     "execution_count": 38,
     "metadata": {},
     "output_type": "execute_result"
    }
   ],
   "source": [
    "# select column\n",
    "arr_2d[:,0]"
   ]
  },
  {
   "cell_type": "code",
   "execution_count": 39,
   "id": "acquired-wonder",
   "metadata": {},
   "outputs": [
    {
     "data": {
      "text/plain": [
       "2"
      ]
     },
     "execution_count": 39,
     "metadata": {},
     "output_type": "execute_result"
    }
   ],
   "source": [
    "# Getting individual element value\n",
    "# Format is arr_2d[row][col] or arr_2d[row,col]\n",
    "arr_2d[0][1]"
   ]
  },
  {
   "cell_type": "code",
   "execution_count": 40,
   "id": "russian-folks",
   "metadata": {},
   "outputs": [
    {
     "data": {
      "text/plain": [
       "2"
      ]
     },
     "execution_count": 40,
     "metadata": {},
     "output_type": "execute_result"
    }
   ],
   "source": [
    "arr_2d[0,1]"
   ]
  },
  {
   "cell_type": "code",
   "execution_count": 41,
   "id": "competitive-immigration",
   "metadata": {},
   "outputs": [
    {
     "data": {
      "text/plain": [
       "array([[2, 3],\n",
       "       [5, 6]])"
      ]
     },
     "execution_count": 41,
     "metadata": {},
     "output_type": "execute_result"
    }
   ],
   "source": [
    "# 2D array slicing\n",
    "arr_2d[:2,1:]"
   ]
  },
  {
   "cell_type": "code",
   "execution_count": 42,
   "id": "abandoned-matrix",
   "metadata": {},
   "outputs": [
    {
     "data": {
      "text/plain": [
       "array([[2, 3],\n",
       "       [5, 6]])"
      ]
     },
     "execution_count": 42,
     "metadata": {},
     "output_type": "execute_result"
    }
   ],
   "source": [
    "arr_2d[0:2,1:3]"
   ]
  },
  {
   "cell_type": "markdown",
   "id": "controlled-fellowship",
   "metadata": {},
   "source": [
    "**selecting array using boolen inside square bracket**"
   ]
  },
  {
   "cell_type": "code",
   "execution_count": 43,
   "id": "dress-distance",
   "metadata": {},
   "outputs": [
    {
     "data": {
      "text/plain": [
       "array([15, 75, 68, 24, 59, 42, 80,  0, 98, 28])"
      ]
     },
     "execution_count": 43,
     "metadata": {},
     "output_type": "execute_result"
    }
   ],
   "source": [
    "arr = np.random.randint(0,100,10)\n",
    "arr"
   ]
  },
  {
   "cell_type": "code",
   "execution_count": 44,
   "id": "metropolitan-victory",
   "metadata": {},
   "outputs": [
    {
     "data": {
      "text/plain": [
       "array([False, False,  True,  True, False,  True,  True,  True,  True,\n",
       "        True])"
      ]
     },
     "execution_count": 44,
     "metadata": {},
     "output_type": "execute_result"
    }
   ],
   "source": [
    "arr % 2 == 0"
   ]
  },
  {
   "cell_type": "code",
   "execution_count": 45,
   "id": "explicit-survey",
   "metadata": {},
   "outputs": [
    {
     "data": {
      "text/plain": [
       "array([68, 24, 42, 80,  0, 98, 28])"
      ]
     },
     "execution_count": 45,
     "metadata": {},
     "output_type": "execute_result"
    }
   ],
   "source": [
    "# select number in array divied by 2\n",
    "arr[arr % 2 == 0]"
   ]
  },
  {
   "cell_type": "code",
   "execution_count": 46,
   "id": "charged-bradford",
   "metadata": {},
   "outputs": [
    {
     "data": {
      "text/plain": [
       "array([75, 68, 59, 80, 98])"
      ]
     },
     "execution_count": 46,
     "metadata": {},
     "output_type": "execute_result"
    }
   ],
   "source": [
    "# select number in array greater than 50\n",
    "arr[arr > 50]"
   ]
  },
  {
   "cell_type": "markdown",
   "id": "effective-specific",
   "metadata": {},
   "source": [
    "<hr>"
   ]
  },
  {
   "cell_type": "markdown",
   "id": "potential-prompt",
   "metadata": {},
   "source": [
    "### Basic Numpy operator"
   ]
  },
  {
   "cell_type": "code",
   "execution_count": 47,
   "id": "delayed-joint",
   "metadata": {},
   "outputs": [
    {
     "data": {
      "text/plain": [
       "array([5, 4, 1, 4, 7])"
      ]
     },
     "execution_count": 47,
     "metadata": {},
     "output_type": "execute_result"
    }
   ],
   "source": [
    "arr = np.random.randint(0,10,5)\n",
    "arr"
   ]
  },
  {
   "cell_type": "code",
   "execution_count": 48,
   "id": "adequate-brown",
   "metadata": {},
   "outputs": [
    {
     "data": {
      "text/plain": [
       "array([10,  8,  2,  8, 14])"
      ]
     },
     "execution_count": 48,
     "metadata": {},
     "output_type": "execute_result"
    }
   ],
   "source": [
    "# sum\n",
    "arr + arr"
   ]
  },
  {
   "cell_type": "code",
   "execution_count": 49,
   "id": "rapid-rapid",
   "metadata": {},
   "outputs": [
    {
     "data": {
      "text/plain": [
       "array([0, 0, 0, 0, 0])"
      ]
     },
     "execution_count": 49,
     "metadata": {},
     "output_type": "execute_result"
    }
   ],
   "source": [
    "# minus\n",
    "arr - arr"
   ]
  },
  {
   "cell_type": "code",
   "execution_count": 50,
   "id": "surface-boutique",
   "metadata": {},
   "outputs": [
    {
     "data": {
      "text/plain": [
       "array([25, 16,  1, 16, 49])"
      ]
     },
     "execution_count": 50,
     "metadata": {},
     "output_type": "execute_result"
    }
   ],
   "source": [
    "# multiply\n",
    "arr * arr"
   ]
  },
  {
   "cell_type": "code",
   "execution_count": 51,
   "id": "institutional-affair",
   "metadata": {},
   "outputs": [
    {
     "data": {
      "text/plain": [
       "array([25, 16,  1, 16, 49], dtype=int32)"
      ]
     },
     "execution_count": 51,
     "metadata": {},
     "output_type": "execute_result"
    }
   ],
   "source": [
    "# power\n",
    "arr ** 2"
   ]
  },
  {
   "cell_type": "markdown",
   "id": "interior-gregory",
   "metadata": {},
   "source": [
    "**Some familiar operation on array**"
   ]
  },
  {
   "cell_type": "code",
   "execution_count": 52,
   "id": "sufficient-pricing",
   "metadata": {},
   "outputs": [
    {
     "data": {
      "text/plain": [
       "array([2.23606798, 2.        , 1.        , 2.        , 2.64575131])"
      ]
     },
     "execution_count": 52,
     "metadata": {},
     "output_type": "execute_result"
    }
   ],
   "source": [
    "# square roots\n",
    "np.sqrt(arr)"
   ]
  },
  {
   "cell_type": "code",
   "execution_count": 53,
   "id": "distinguished-hotel",
   "metadata": {},
   "outputs": [
    {
     "data": {
      "text/plain": [
       "array([ 148.4131591 ,   54.59815003,    2.71828183,   54.59815003,\n",
       "       1096.63315843])"
      ]
     },
     "execution_count": 53,
     "metadata": {},
     "output_type": "execute_result"
    }
   ],
   "source": [
    "# exponential (e^)\n",
    "np.exp(arr)"
   ]
  },
  {
   "cell_type": "code",
   "execution_count": 54,
   "id": "diagnostic-family",
   "metadata": {},
   "outputs": [
    {
     "data": {
      "text/plain": [
       "7"
      ]
     },
     "execution_count": 54,
     "metadata": {},
     "output_type": "execute_result"
    }
   ],
   "source": [
    "# max\n",
    "np.max(arr)"
   ]
  },
  {
   "cell_type": "code",
   "execution_count": 55,
   "id": "confident-brooklyn",
   "metadata": {},
   "outputs": [
    {
     "data": {
      "text/plain": [
       "array([-0.95892427, -0.7568025 ,  0.84147098, -0.7568025 ,  0.6569866 ])"
      ]
     },
     "execution_count": 55,
     "metadata": {},
     "output_type": "execute_result"
    }
   ],
   "source": [
    "# trigonometry\n",
    "np.sin(arr)"
   ]
  },
  {
   "cell_type": "code",
   "execution_count": 56,
   "id": "published-eagle",
   "metadata": {},
   "outputs": [
    {
     "data": {
      "text/plain": [
       "array([1.60943791, 1.38629436, 0.        , 1.38629436, 1.94591015])"
      ]
     },
     "execution_count": 56,
     "metadata": {},
     "output_type": "execute_result"
    }
   ],
   "source": [
    "np.log(arr)"
   ]
  }
 ],
 "metadata": {
  "kernelspec": {
   "display_name": "Python 3",
   "language": "python",
   "name": "python3"
  },
  "language_info": {
   "codemirror_mode": {
    "name": "ipython",
    "version": 3
   },
   "file_extension": ".py",
   "mimetype": "text/x-python",
   "name": "python",
   "nbconvert_exporter": "python",
   "pygments_lexer": "ipython3",
   "version": "3.9.2"
  }
 },
 "nbformat": 4,
 "nbformat_minor": 5
}
