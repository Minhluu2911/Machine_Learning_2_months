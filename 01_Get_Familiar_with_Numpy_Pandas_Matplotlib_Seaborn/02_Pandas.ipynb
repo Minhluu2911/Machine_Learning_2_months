{
 "cells": [
  {
   "cell_type": "markdown",
   "id": "verbal-northeast",
   "metadata": {},
   "source": [
    "# What and Why we are using Pandas?\n",
    "\n",
    "### What is it?\n",
    "- Pandas is Python library used for data manipulation and analysis\n",
    "\n",
    "### Why we are using it?\n",
    "- In think because its is very powerful :)))\n",
    "- Here is what it can do:\n",
    "    - import data from various formats (json, sql, xlxs,..)\n",
    "    - manipulating data (cleaning, transforming, visualizing,...)\n",
    "    - And much more...\n",
    "    \n",
    "<hr>"
   ]
  },
  {
   "cell_type": "code",
   "execution_count": 1,
   "id": "damaged-doctrine",
   "metadata": {},
   "outputs": [],
   "source": [
    "# First lets import pandas\n",
    "import numpy as np\n",
    "import pandas as pd"
   ]
  },
  {
   "cell_type": "markdown",
   "id": "developmental-greene",
   "metadata": {},
   "source": [
    "## Series\n",
    "- A Pandas Series is like a column in a table. It is a one-dimensional array holding data of any type.\n",
    "\n",
    "**Sound it like Numpy array?**\n",
    "- One diferent things is that in Pandas Series we have axis labels, meaning that we can access data by indexed a label instead of a number location."
   ]
  },
  {
   "cell_type": "code",
   "execution_count": 2,
   "id": "compressed-happiness",
   "metadata": {},
   "outputs": [],
   "source": [
    "# you can convert a list, numpy array, dictionary to a Series\n",
    "axis_label = ['a','b','c']\n",
    "list1 = [100,200,300]\n",
    "arr1 = np.array(list1)\n",
    "diction1 = {\n",
    "    'a':100,\n",
    "    'b':200,\n",
    "    'c':300\n",
    "}"
   ]
  },
  {
   "cell_type": "markdown",
   "id": "employed-event",
   "metadata": {},
   "source": [
    "**List**"
   ]
  },
  {
   "cell_type": "code",
   "execution_count": 3,
   "id": "instant-blocking",
   "metadata": {},
   "outputs": [
    {
     "data": {
      "text/plain": [
       "0    100\n",
       "1    200\n",
       "2    300\n",
       "dtype: int64"
      ]
     },
     "execution_count": 3,
     "metadata": {},
     "output_type": "execute_result"
    }
   ],
   "source": [
    "pd.Series(data=list1)"
   ]
  },
  {
   "cell_type": "code",
   "execution_count": 4,
   "id": "stopped-offer",
   "metadata": {},
   "outputs": [
    {
     "data": {
      "text/plain": [
       "a    100\n",
       "b    200\n",
       "c    300\n",
       "dtype: int64"
      ]
     },
     "execution_count": 4,
     "metadata": {},
     "output_type": "execute_result"
    }
   ],
   "source": [
    "pd.Series(data=list1, index=axis_label)"
   ]
  },
  {
   "cell_type": "markdown",
   "id": "lined-wheat",
   "metadata": {},
   "source": [
    "**Numpy array**"
   ]
  },
  {
   "cell_type": "code",
   "execution_count": 5,
   "id": "conscious-class",
   "metadata": {},
   "outputs": [
    {
     "data": {
      "text/plain": [
       "0    100\n",
       "1    200\n",
       "2    300\n",
       "dtype: int32"
      ]
     },
     "execution_count": 5,
     "metadata": {},
     "output_type": "execute_result"
    }
   ],
   "source": [
    "pd.Series(arr1)"
   ]
  },
  {
   "cell_type": "code",
   "execution_count": 6,
   "id": "completed-distribution",
   "metadata": {},
   "outputs": [
    {
     "data": {
      "text/plain": [
       "a    100\n",
       "b    200\n",
       "c    300\n",
       "dtype: int32"
      ]
     },
     "execution_count": 6,
     "metadata": {},
     "output_type": "execute_result"
    }
   ],
   "source": [
    "pd.Series(arr1,axis_label)"
   ]
  },
  {
   "cell_type": "markdown",
   "id": "julian-arrest",
   "metadata": {},
   "source": [
    "**Dictionary**"
   ]
  },
  {
   "cell_type": "code",
   "execution_count": 7,
   "id": "dental-pressure",
   "metadata": {},
   "outputs": [
    {
     "data": {
      "text/plain": [
       "a    100\n",
       "b    200\n",
       "c    300\n",
       "dtype: int64"
      ]
     },
     "execution_count": 7,
     "metadata": {},
     "output_type": "execute_result"
    }
   ],
   "source": [
    "pd.Series(diction1)"
   ]
  },
  {
   "cell_type": "markdown",
   "id": "opening-enterprise",
   "metadata": {},
   "source": [
    "**Even function**"
   ]
  },
  {
   "cell_type": "code",
   "execution_count": 8,
   "id": "living-vietnamese",
   "metadata": {},
   "outputs": [
    {
     "data": {
      "text/plain": [
       "0      <built-in function sum>\n",
       "1    <built-in function print>\n",
       "2      <built-in function len>\n",
       "dtype: object"
      ]
     },
     "execution_count": 8,
     "metadata": {},
     "output_type": "execute_result"
    }
   ],
   "source": [
    "pd.Series([sum,print,len])"
   ]
  },
  {
   "cell_type": "code",
   "execution_count": 9,
   "id": "imported-batman",
   "metadata": {},
   "outputs": [
    {
     "data": {
      "text/plain": [
       "A    11.0\n",
       "B    22.0\n",
       "C     NaN\n",
       "D     NaN\n",
       "dtype: float64"
      ]
     },
     "execution_count": 9,
     "metadata": {},
     "output_type": "execute_result"
    }
   ],
   "source": [
    "# you can take sum of 2 Series\n",
    "\n",
    "ser1 = pd.Series(data=[1,2,3],index=['A','B','D'])\n",
    "ser2 = pd.Series(data=[10,20,30],index=['A','B','C'])\n",
    "\n",
    "ser1 + ser2 # it will take the sum of 2 index(axis_label) have the same name"
   ]
  },
  {
   "cell_type": "markdown",
   "id": "structural-cooper",
   "metadata": {},
   "source": [
    "<hr>\n",
    "\n",
    "## DataFrames\n",
    "- That is just a bunch of Series that share the same index(axis_label)"
   ]
  },
  {
   "cell_type": "code",
   "execution_count": 10,
   "id": "systematic-chest",
   "metadata": {},
   "outputs": [
    {
     "data": {
      "text/html": [
       "<div>\n",
       "<style scoped>\n",
       "    .dataframe tbody tr th:only-of-type {\n",
       "        vertical-align: middle;\n",
       "    }\n",
       "\n",
       "    .dataframe tbody tr th {\n",
       "        vertical-align: top;\n",
       "    }\n",
       "\n",
       "    .dataframe thead th {\n",
       "        text-align: right;\n",
       "    }\n",
       "</style>\n",
       "<table border=\"1\" class=\"dataframe\">\n",
       "  <thead>\n",
       "    <tr style=\"text-align: right;\">\n",
       "      <th></th>\n",
       "      <th>W</th>\n",
       "      <th>X</th>\n",
       "      <th>Y</th>\n",
       "      <th>Z</th>\n",
       "    </tr>\n",
       "  </thead>\n",
       "  <tbody>\n",
       "    <tr>\n",
       "      <th>A</th>\n",
       "      <td>0.687724</td>\n",
       "      <td>1.115088</td>\n",
       "      <td>-1.884413</td>\n",
       "      <td>-0.859023</td>\n",
       "    </tr>\n",
       "    <tr>\n",
       "      <th>B</th>\n",
       "      <td>-0.099371</td>\n",
       "      <td>-1.157715</td>\n",
       "      <td>0.822326</td>\n",
       "      <td>0.618447</td>\n",
       "    </tr>\n",
       "    <tr>\n",
       "      <th>C</th>\n",
       "      <td>-1.573068</td>\n",
       "      <td>0.528304</td>\n",
       "      <td>-0.241682</td>\n",
       "      <td>2.068446</td>\n",
       "    </tr>\n",
       "    <tr>\n",
       "      <th>D</th>\n",
       "      <td>-1.063389</td>\n",
       "      <td>0.164299</td>\n",
       "      <td>-0.905752</td>\n",
       "      <td>0.343066</td>\n",
       "    </tr>\n",
       "    <tr>\n",
       "      <th>E</th>\n",
       "      <td>0.151257</td>\n",
       "      <td>-0.379639</td>\n",
       "      <td>-0.431457</td>\n",
       "      <td>-0.157105</td>\n",
       "    </tr>\n",
       "  </tbody>\n",
       "</table>\n",
       "</div>"
      ],
      "text/plain": [
       "          W         X         Y         Z\n",
       "A  0.687724  1.115088 -1.884413 -0.859023\n",
       "B -0.099371 -1.157715  0.822326  0.618447\n",
       "C -1.573068  0.528304 -0.241682  2.068446\n",
       "D -1.063389  0.164299 -0.905752  0.343066\n",
       "E  0.151257 -0.379639 -0.431457 -0.157105"
      ]
     },
     "execution_count": 10,
     "metadata": {},
     "output_type": "execute_result"
    }
   ],
   "source": [
    "df1 = pd.DataFrame(data = np.random.randn(5,4),index='A B C D E'.split(),columns='W X Y Z'.split())\n",
    "df1"
   ]
  },
  {
   "cell_type": "markdown",
   "id": "exempt-acting",
   "metadata": {},
   "source": [
    "**Indexing and Selecting**"
   ]
  },
  {
   "cell_type": "code",
   "execution_count": 11,
   "id": "conditional-knight",
   "metadata": {},
   "outputs": [
    {
     "data": {
      "text/plain": [
       "A    0.687724\n",
       "B   -0.099371\n",
       "C   -1.573068\n",
       "D   -1.063389\n",
       "E    0.151257\n",
       "Name: W, dtype: float64"
      ]
     },
     "execution_count": 11,
     "metadata": {},
     "output_type": "execute_result"
    }
   ],
   "source": [
    "# Select column\n",
    "df1['W']"
   ]
  },
  {
   "cell_type": "code",
   "execution_count": 12,
   "id": "independent-heather",
   "metadata": {},
   "outputs": [
    {
     "data": {
      "text/html": [
       "<div>\n",
       "<style scoped>\n",
       "    .dataframe tbody tr th:only-of-type {\n",
       "        vertical-align: middle;\n",
       "    }\n",
       "\n",
       "    .dataframe tbody tr th {\n",
       "        vertical-align: top;\n",
       "    }\n",
       "\n",
       "    .dataframe thead th {\n",
       "        text-align: right;\n",
       "    }\n",
       "</style>\n",
       "<table border=\"1\" class=\"dataframe\">\n",
       "  <thead>\n",
       "    <tr style=\"text-align: right;\">\n",
       "      <th></th>\n",
       "      <th>W</th>\n",
       "      <th>Z</th>\n",
       "    </tr>\n",
       "  </thead>\n",
       "  <tbody>\n",
       "    <tr>\n",
       "      <th>A</th>\n",
       "      <td>0.687724</td>\n",
       "      <td>-0.859023</td>\n",
       "    </tr>\n",
       "    <tr>\n",
       "      <th>B</th>\n",
       "      <td>-0.099371</td>\n",
       "      <td>0.618447</td>\n",
       "    </tr>\n",
       "    <tr>\n",
       "      <th>C</th>\n",
       "      <td>-1.573068</td>\n",
       "      <td>2.068446</td>\n",
       "    </tr>\n",
       "    <tr>\n",
       "      <th>D</th>\n",
       "      <td>-1.063389</td>\n",
       "      <td>0.343066</td>\n",
       "    </tr>\n",
       "    <tr>\n",
       "      <th>E</th>\n",
       "      <td>0.151257</td>\n",
       "      <td>-0.157105</td>\n",
       "    </tr>\n",
       "  </tbody>\n",
       "</table>\n",
       "</div>"
      ],
      "text/plain": [
       "          W         Z\n",
       "A  0.687724 -0.859023\n",
       "B -0.099371  0.618447\n",
       "C -1.573068  2.068446\n",
       "D -1.063389  0.343066\n",
       "E  0.151257 -0.157105"
      ]
     },
     "execution_count": 12,
     "metadata": {},
     "output_type": "execute_result"
    }
   ],
   "source": [
    "# Multiple columns\n",
    "df1[['W','Z']]"
   ]
  },
  {
   "cell_type": "code",
   "execution_count": 13,
   "id": "graduate-audio",
   "metadata": {},
   "outputs": [
    {
     "data": {
      "text/plain": [
       "W    0.687724\n",
       "X    1.115088\n",
       "Y   -1.884413\n",
       "Z   -0.859023\n",
       "Name: A, dtype: float64"
      ]
     },
     "execution_count": 13,
     "metadata": {},
     "output_type": "execute_result"
    }
   ],
   "source": [
    "# Select row\n",
    "df1.loc['A'] # using label"
   ]
  },
  {
   "cell_type": "code",
   "execution_count": 14,
   "id": "impossible-bristol",
   "metadata": {},
   "outputs": [
    {
     "data": {
      "text/plain": [
       "W    0.687724\n",
       "X    1.115088\n",
       "Y   -1.884413\n",
       "Z   -0.859023\n",
       "Name: A, dtype: float64"
      ]
     },
     "execution_count": 14,
     "metadata": {},
     "output_type": "execute_result"
    }
   ],
   "source": [
    "# Select row\n",
    "df1.iloc[0] # using index"
   ]
  },
  {
   "cell_type": "code",
   "execution_count": 15,
   "id": "approved-integration",
   "metadata": {},
   "outputs": [
    {
     "data": {
      "text/html": [
       "<div>\n",
       "<style scoped>\n",
       "    .dataframe tbody tr th:only-of-type {\n",
       "        vertical-align: middle;\n",
       "    }\n",
       "\n",
       "    .dataframe tbody tr th {\n",
       "        vertical-align: top;\n",
       "    }\n",
       "\n",
       "    .dataframe thead th {\n",
       "        text-align: right;\n",
       "    }\n",
       "</style>\n",
       "<table border=\"1\" class=\"dataframe\">\n",
       "  <thead>\n",
       "    <tr style=\"text-align: right;\">\n",
       "      <th></th>\n",
       "      <th>W</th>\n",
       "      <th>X</th>\n",
       "      <th>Y</th>\n",
       "      <th>Z</th>\n",
       "    </tr>\n",
       "  </thead>\n",
       "  <tbody>\n",
       "    <tr>\n",
       "      <th>A</th>\n",
       "      <td>0.687724</td>\n",
       "      <td>1.115088</td>\n",
       "      <td>-1.884413</td>\n",
       "      <td>-0.859023</td>\n",
       "    </tr>\n",
       "    <tr>\n",
       "      <th>D</th>\n",
       "      <td>-1.063389</td>\n",
       "      <td>0.164299</td>\n",
       "      <td>-0.905752</td>\n",
       "      <td>0.343066</td>\n",
       "    </tr>\n",
       "  </tbody>\n",
       "</table>\n",
       "</div>"
      ],
      "text/plain": [
       "          W         X         Y         Z\n",
       "A  0.687724  1.115088 -1.884413 -0.859023\n",
       "D -1.063389  0.164299 -0.905752  0.343066"
      ]
     },
     "execution_count": 15,
     "metadata": {},
     "output_type": "execute_result"
    }
   ],
   "source": [
    "# Select multiple row\n",
    "df1.loc[['A','D']]"
   ]
  },
  {
   "cell_type": "code",
   "execution_count": 16,
   "id": "conceptual-arabic",
   "metadata": {},
   "outputs": [
    {
     "data": {
      "text/html": [
       "<div>\n",
       "<style scoped>\n",
       "    .dataframe tbody tr th:only-of-type {\n",
       "        vertical-align: middle;\n",
       "    }\n",
       "\n",
       "    .dataframe tbody tr th {\n",
       "        vertical-align: top;\n",
       "    }\n",
       "\n",
       "    .dataframe thead th {\n",
       "        text-align: right;\n",
       "    }\n",
       "</style>\n",
       "<table border=\"1\" class=\"dataframe\">\n",
       "  <thead>\n",
       "    <tr style=\"text-align: right;\">\n",
       "      <th></th>\n",
       "      <th>W</th>\n",
       "      <th>X</th>\n",
       "      <th>Y</th>\n",
       "      <th>Z</th>\n",
       "    </tr>\n",
       "  </thead>\n",
       "  <tbody>\n",
       "    <tr>\n",
       "      <th>A</th>\n",
       "      <td>0.687724</td>\n",
       "      <td>1.115088</td>\n",
       "      <td>-1.884413</td>\n",
       "      <td>-0.859023</td>\n",
       "    </tr>\n",
       "    <tr>\n",
       "      <th>B</th>\n",
       "      <td>-0.099371</td>\n",
       "      <td>-1.157715</td>\n",
       "      <td>0.822326</td>\n",
       "      <td>0.618447</td>\n",
       "    </tr>\n",
       "    <tr>\n",
       "      <th>C</th>\n",
       "      <td>-1.573068</td>\n",
       "      <td>0.528304</td>\n",
       "      <td>-0.241682</td>\n",
       "      <td>2.068446</td>\n",
       "    </tr>\n",
       "    <tr>\n",
       "      <th>D</th>\n",
       "      <td>-1.063389</td>\n",
       "      <td>0.164299</td>\n",
       "      <td>-0.905752</td>\n",
       "      <td>0.343066</td>\n",
       "    </tr>\n",
       "    <tr>\n",
       "      <th>E</th>\n",
       "      <td>0.151257</td>\n",
       "      <td>-0.379639</td>\n",
       "      <td>-0.431457</td>\n",
       "      <td>-0.157105</td>\n",
       "    </tr>\n",
       "    <tr>\n",
       "      <th>newRow</th>\n",
       "      <td>-0.375665</td>\n",
       "      <td>1.279387</td>\n",
       "      <td>-2.790165</td>\n",
       "      <td>-0.515957</td>\n",
       "    </tr>\n",
       "  </tbody>\n",
       "</table>\n",
       "</div>"
      ],
      "text/plain": [
       "               W         X         Y         Z\n",
       "A       0.687724  1.115088 -1.884413 -0.859023\n",
       "B      -0.099371 -1.157715  0.822326  0.618447\n",
       "C      -1.573068  0.528304 -0.241682  2.068446\n",
       "D      -1.063389  0.164299 -0.905752  0.343066\n",
       "E       0.151257 -0.379639 -0.431457 -0.157105\n",
       "newRow -0.375665  1.279387 -2.790165 -0.515957"
      ]
     },
     "execution_count": 16,
     "metadata": {},
     "output_type": "execute_result"
    }
   ],
   "source": [
    "# Create new row\n",
    "df1.loc['newRow'] = df1.loc['A'] + df1.loc['D']\n",
    "df1"
   ]
  },
  {
   "cell_type": "code",
   "execution_count": 17,
   "id": "endless-nightlife",
   "metadata": {},
   "outputs": [
    {
     "data": {
      "text/html": [
       "<div>\n",
       "<style scoped>\n",
       "    .dataframe tbody tr th:only-of-type {\n",
       "        vertical-align: middle;\n",
       "    }\n",
       "\n",
       "    .dataframe tbody tr th {\n",
       "        vertical-align: top;\n",
       "    }\n",
       "\n",
       "    .dataframe thead th {\n",
       "        text-align: right;\n",
       "    }\n",
       "</style>\n",
       "<table border=\"1\" class=\"dataframe\">\n",
       "  <thead>\n",
       "    <tr style=\"text-align: right;\">\n",
       "      <th></th>\n",
       "      <th>W</th>\n",
       "      <th>X</th>\n",
       "      <th>Y</th>\n",
       "      <th>Z</th>\n",
       "      <th>newColumn</th>\n",
       "    </tr>\n",
       "  </thead>\n",
       "  <tbody>\n",
       "    <tr>\n",
       "      <th>A</th>\n",
       "      <td>0.687724</td>\n",
       "      <td>1.115088</td>\n",
       "      <td>-1.884413</td>\n",
       "      <td>-0.859023</td>\n",
       "      <td>-0.171299</td>\n",
       "    </tr>\n",
       "    <tr>\n",
       "      <th>B</th>\n",
       "      <td>-0.099371</td>\n",
       "      <td>-1.157715</td>\n",
       "      <td>0.822326</td>\n",
       "      <td>0.618447</td>\n",
       "      <td>0.519076</td>\n",
       "    </tr>\n",
       "    <tr>\n",
       "      <th>C</th>\n",
       "      <td>-1.573068</td>\n",
       "      <td>0.528304</td>\n",
       "      <td>-0.241682</td>\n",
       "      <td>2.068446</td>\n",
       "      <td>0.495378</td>\n",
       "    </tr>\n",
       "    <tr>\n",
       "      <th>D</th>\n",
       "      <td>-1.063389</td>\n",
       "      <td>0.164299</td>\n",
       "      <td>-0.905752</td>\n",
       "      <td>0.343066</td>\n",
       "      <td>-0.720323</td>\n",
       "    </tr>\n",
       "    <tr>\n",
       "      <th>E</th>\n",
       "      <td>0.151257</td>\n",
       "      <td>-0.379639</td>\n",
       "      <td>-0.431457</td>\n",
       "      <td>-0.157105</td>\n",
       "      <td>-0.005848</td>\n",
       "    </tr>\n",
       "    <tr>\n",
       "      <th>newRow</th>\n",
       "      <td>-0.375665</td>\n",
       "      <td>1.279387</td>\n",
       "      <td>-2.790165</td>\n",
       "      <td>-0.515957</td>\n",
       "      <td>-0.891622</td>\n",
       "    </tr>\n",
       "  </tbody>\n",
       "</table>\n",
       "</div>"
      ],
      "text/plain": [
       "               W         X         Y         Z  newColumn\n",
       "A       0.687724  1.115088 -1.884413 -0.859023  -0.171299\n",
       "B      -0.099371 -1.157715  0.822326  0.618447   0.519076\n",
       "C      -1.573068  0.528304 -0.241682  2.068446   0.495378\n",
       "D      -1.063389  0.164299 -0.905752  0.343066  -0.720323\n",
       "E       0.151257 -0.379639 -0.431457 -0.157105  -0.005848\n",
       "newRow -0.375665  1.279387 -2.790165 -0.515957  -0.891622"
      ]
     },
     "execution_count": 17,
     "metadata": {},
     "output_type": "execute_result"
    }
   ],
   "source": [
    "# create new column\n",
    "df1['newColumn'] = df1['W'] + df1['Z']\n",
    "df1"
   ]
  },
  {
   "cell_type": "code",
   "execution_count": 18,
   "id": "smoking-honduras",
   "metadata": {},
   "outputs": [
    {
     "data": {
      "text/html": [
       "<div>\n",
       "<style scoped>\n",
       "    .dataframe tbody tr th:only-of-type {\n",
       "        vertical-align: middle;\n",
       "    }\n",
       "\n",
       "    .dataframe tbody tr th {\n",
       "        vertical-align: top;\n",
       "    }\n",
       "\n",
       "    .dataframe thead th {\n",
       "        text-align: right;\n",
       "    }\n",
       "</style>\n",
       "<table border=\"1\" class=\"dataframe\">\n",
       "  <thead>\n",
       "    <tr style=\"text-align: right;\">\n",
       "      <th></th>\n",
       "      <th>W</th>\n",
       "      <th>Z</th>\n",
       "    </tr>\n",
       "  </thead>\n",
       "  <tbody>\n",
       "    <tr>\n",
       "      <th>A</th>\n",
       "      <td>0.687724</td>\n",
       "      <td>-0.859023</td>\n",
       "    </tr>\n",
       "    <tr>\n",
       "      <th>B</th>\n",
       "      <td>-0.099371</td>\n",
       "      <td>0.618447</td>\n",
       "    </tr>\n",
       "  </tbody>\n",
       "</table>\n",
       "</div>"
      ],
      "text/plain": [
       "          W         Z\n",
       "A  0.687724 -0.859023\n",
       "B -0.099371  0.618447"
      ]
     },
     "execution_count": 18,
     "metadata": {},
     "output_type": "execute_result"
    }
   ],
   "source": [
    "# Select both row and column\n",
    "df1.loc[['A','B'],['W','Z']]"
   ]
  },
  {
   "cell_type": "code",
   "execution_count": 19,
   "id": "pregnant-billy",
   "metadata": {},
   "outputs": [
    {
     "data": {
      "text/html": [
       "<div>\n",
       "<style scoped>\n",
       "    .dataframe tbody tr th:only-of-type {\n",
       "        vertical-align: middle;\n",
       "    }\n",
       "\n",
       "    .dataframe tbody tr th {\n",
       "        vertical-align: top;\n",
       "    }\n",
       "\n",
       "    .dataframe thead th {\n",
       "        text-align: right;\n",
       "    }\n",
       "</style>\n",
       "<table border=\"1\" class=\"dataframe\">\n",
       "  <thead>\n",
       "    <tr style=\"text-align: right;\">\n",
       "      <th></th>\n",
       "      <th>W</th>\n",
       "      <th>X</th>\n",
       "      <th>Y</th>\n",
       "      <th>Z</th>\n",
       "    </tr>\n",
       "  </thead>\n",
       "  <tbody>\n",
       "    <tr>\n",
       "      <th>A</th>\n",
       "      <td>0.687724</td>\n",
       "      <td>1.115088</td>\n",
       "      <td>-1.884413</td>\n",
       "      <td>-0.859023</td>\n",
       "    </tr>\n",
       "    <tr>\n",
       "      <th>B</th>\n",
       "      <td>-0.099371</td>\n",
       "      <td>-1.157715</td>\n",
       "      <td>0.822326</td>\n",
       "      <td>0.618447</td>\n",
       "    </tr>\n",
       "    <tr>\n",
       "      <th>C</th>\n",
       "      <td>-1.573068</td>\n",
       "      <td>0.528304</td>\n",
       "      <td>-0.241682</td>\n",
       "      <td>2.068446</td>\n",
       "    </tr>\n",
       "    <tr>\n",
       "      <th>D</th>\n",
       "      <td>-1.063389</td>\n",
       "      <td>0.164299</td>\n",
       "      <td>-0.905752</td>\n",
       "      <td>0.343066</td>\n",
       "    </tr>\n",
       "    <tr>\n",
       "      <th>E</th>\n",
       "      <td>0.151257</td>\n",
       "      <td>-0.379639</td>\n",
       "      <td>-0.431457</td>\n",
       "      <td>-0.157105</td>\n",
       "    </tr>\n",
       "    <tr>\n",
       "      <th>newRow</th>\n",
       "      <td>-0.375665</td>\n",
       "      <td>1.279387</td>\n",
       "      <td>-2.790165</td>\n",
       "      <td>-0.515957</td>\n",
       "    </tr>\n",
       "  </tbody>\n",
       "</table>\n",
       "</div>"
      ],
      "text/plain": [
       "               W         X         Y         Z\n",
       "A       0.687724  1.115088 -1.884413 -0.859023\n",
       "B      -0.099371 -1.157715  0.822326  0.618447\n",
       "C      -1.573068  0.528304 -0.241682  2.068446\n",
       "D      -1.063389  0.164299 -0.905752  0.343066\n",
       "E       0.151257 -0.379639 -0.431457 -0.157105\n",
       "newRow -0.375665  1.279387 -2.790165 -0.515957"
      ]
     },
     "execution_count": 19,
     "metadata": {},
     "output_type": "execute_result"
    }
   ],
   "source": [
    "# remove column of df1\n",
    "df1.drop('newColumn', axis=1) # axis=1 for column =0 for row"
   ]
  },
  {
   "cell_type": "code",
   "execution_count": 20,
   "id": "verbal-browse",
   "metadata": {},
   "outputs": [
    {
     "data": {
      "text/html": [
       "<div>\n",
       "<style scoped>\n",
       "    .dataframe tbody tr th:only-of-type {\n",
       "        vertical-align: middle;\n",
       "    }\n",
       "\n",
       "    .dataframe tbody tr th {\n",
       "        vertical-align: top;\n",
       "    }\n",
       "\n",
       "    .dataframe thead th {\n",
       "        text-align: right;\n",
       "    }\n",
       "</style>\n",
       "<table border=\"1\" class=\"dataframe\">\n",
       "  <thead>\n",
       "    <tr style=\"text-align: right;\">\n",
       "      <th></th>\n",
       "      <th>W</th>\n",
       "      <th>X</th>\n",
       "      <th>Y</th>\n",
       "      <th>Z</th>\n",
       "      <th>newColumn</th>\n",
       "    </tr>\n",
       "  </thead>\n",
       "  <tbody>\n",
       "    <tr>\n",
       "      <th>A</th>\n",
       "      <td>0.687724</td>\n",
       "      <td>1.115088</td>\n",
       "      <td>-1.884413</td>\n",
       "      <td>-0.859023</td>\n",
       "      <td>-0.171299</td>\n",
       "    </tr>\n",
       "    <tr>\n",
       "      <th>B</th>\n",
       "      <td>-0.099371</td>\n",
       "      <td>-1.157715</td>\n",
       "      <td>0.822326</td>\n",
       "      <td>0.618447</td>\n",
       "      <td>0.519076</td>\n",
       "    </tr>\n",
       "    <tr>\n",
       "      <th>C</th>\n",
       "      <td>-1.573068</td>\n",
       "      <td>0.528304</td>\n",
       "      <td>-0.241682</td>\n",
       "      <td>2.068446</td>\n",
       "      <td>0.495378</td>\n",
       "    </tr>\n",
       "    <tr>\n",
       "      <th>D</th>\n",
       "      <td>-1.063389</td>\n",
       "      <td>0.164299</td>\n",
       "      <td>-0.905752</td>\n",
       "      <td>0.343066</td>\n",
       "      <td>-0.720323</td>\n",
       "    </tr>\n",
       "    <tr>\n",
       "      <th>E</th>\n",
       "      <td>0.151257</td>\n",
       "      <td>-0.379639</td>\n",
       "      <td>-0.431457</td>\n",
       "      <td>-0.157105</td>\n",
       "      <td>-0.005848</td>\n",
       "    </tr>\n",
       "    <tr>\n",
       "      <th>newRow</th>\n",
       "      <td>-0.375665</td>\n",
       "      <td>1.279387</td>\n",
       "      <td>-2.790165</td>\n",
       "      <td>-0.515957</td>\n",
       "      <td>-0.891622</td>\n",
       "    </tr>\n",
       "  </tbody>\n",
       "</table>\n",
       "</div>"
      ],
      "text/plain": [
       "               W         X         Y         Z  newColumn\n",
       "A       0.687724  1.115088 -1.884413 -0.859023  -0.171299\n",
       "B      -0.099371 -1.157715  0.822326  0.618447   0.519076\n",
       "C      -1.573068  0.528304 -0.241682  2.068446   0.495378\n",
       "D      -1.063389  0.164299 -0.905752  0.343066  -0.720323\n",
       "E       0.151257 -0.379639 -0.431457 -0.157105  -0.005848\n",
       "newRow -0.375665  1.279387 -2.790165 -0.515957  -0.891622"
      ]
     },
     "execution_count": 20,
     "metadata": {},
     "output_type": "execute_result"
    }
   ],
   "source": [
    "# but when you see df1 it does not remove in it\n",
    "df1"
   ]
  },
  {
   "cell_type": "code",
   "execution_count": 21,
   "id": "efficient-detector",
   "metadata": {},
   "outputs": [],
   "source": [
    "# Specific inplace parameter if you want to replace in the original\n",
    "df1.drop('newColumn',axis=1,inplace=True)"
   ]
  },
  {
   "cell_type": "code",
   "execution_count": 22,
   "id": "decent-installation",
   "metadata": {},
   "outputs": [
    {
     "data": {
      "text/html": [
       "<div>\n",
       "<style scoped>\n",
       "    .dataframe tbody tr th:only-of-type {\n",
       "        vertical-align: middle;\n",
       "    }\n",
       "\n",
       "    .dataframe tbody tr th {\n",
       "        vertical-align: top;\n",
       "    }\n",
       "\n",
       "    .dataframe thead th {\n",
       "        text-align: right;\n",
       "    }\n",
       "</style>\n",
       "<table border=\"1\" class=\"dataframe\">\n",
       "  <thead>\n",
       "    <tr style=\"text-align: right;\">\n",
       "      <th></th>\n",
       "      <th>W</th>\n",
       "      <th>X</th>\n",
       "      <th>Y</th>\n",
       "      <th>Z</th>\n",
       "    </tr>\n",
       "  </thead>\n",
       "  <tbody>\n",
       "    <tr>\n",
       "      <th>A</th>\n",
       "      <td>0.687724</td>\n",
       "      <td>1.115088</td>\n",
       "      <td>-1.884413</td>\n",
       "      <td>-0.859023</td>\n",
       "    </tr>\n",
       "    <tr>\n",
       "      <th>B</th>\n",
       "      <td>-0.099371</td>\n",
       "      <td>-1.157715</td>\n",
       "      <td>0.822326</td>\n",
       "      <td>0.618447</td>\n",
       "    </tr>\n",
       "    <tr>\n",
       "      <th>C</th>\n",
       "      <td>-1.573068</td>\n",
       "      <td>0.528304</td>\n",
       "      <td>-0.241682</td>\n",
       "      <td>2.068446</td>\n",
       "    </tr>\n",
       "    <tr>\n",
       "      <th>D</th>\n",
       "      <td>-1.063389</td>\n",
       "      <td>0.164299</td>\n",
       "      <td>-0.905752</td>\n",
       "      <td>0.343066</td>\n",
       "    </tr>\n",
       "    <tr>\n",
       "      <th>E</th>\n",
       "      <td>0.151257</td>\n",
       "      <td>-0.379639</td>\n",
       "      <td>-0.431457</td>\n",
       "      <td>-0.157105</td>\n",
       "    </tr>\n",
       "    <tr>\n",
       "      <th>newRow</th>\n",
       "      <td>-0.375665</td>\n",
       "      <td>1.279387</td>\n",
       "      <td>-2.790165</td>\n",
       "      <td>-0.515957</td>\n",
       "    </tr>\n",
       "  </tbody>\n",
       "</table>\n",
       "</div>"
      ],
      "text/plain": [
       "               W         X         Y         Z\n",
       "A       0.687724  1.115088 -1.884413 -0.859023\n",
       "B      -0.099371 -1.157715  0.822326  0.618447\n",
       "C      -1.573068  0.528304 -0.241682  2.068446\n",
       "D      -1.063389  0.164299 -0.905752  0.343066\n",
       "E       0.151257 -0.379639 -0.431457 -0.157105\n",
       "newRow -0.375665  1.279387 -2.790165 -0.515957"
      ]
     },
     "execution_count": 22,
     "metadata": {},
     "output_type": "execute_result"
    }
   ],
   "source": [
    "df1 # it has been removed"
   ]
  },
  {
   "cell_type": "code",
   "execution_count": 23,
   "id": "authorized-loading",
   "metadata": {},
   "outputs": [
    {
     "data": {
      "text/html": [
       "<div>\n",
       "<style scoped>\n",
       "    .dataframe tbody tr th:only-of-type {\n",
       "        vertical-align: middle;\n",
       "    }\n",
       "\n",
       "    .dataframe tbody tr th {\n",
       "        vertical-align: top;\n",
       "    }\n",
       "\n",
       "    .dataframe thead th {\n",
       "        text-align: right;\n",
       "    }\n",
       "</style>\n",
       "<table border=\"1\" class=\"dataframe\">\n",
       "  <thead>\n",
       "    <tr style=\"text-align: right;\">\n",
       "      <th></th>\n",
       "      <th>W</th>\n",
       "      <th>X</th>\n",
       "      <th>Y</th>\n",
       "      <th>Z</th>\n",
       "    </tr>\n",
       "  </thead>\n",
       "  <tbody>\n",
       "    <tr>\n",
       "      <th>A</th>\n",
       "      <td>0.687724</td>\n",
       "      <td>1.115088</td>\n",
       "      <td>-1.884413</td>\n",
       "      <td>-0.859023</td>\n",
       "    </tr>\n",
       "    <tr>\n",
       "      <th>B</th>\n",
       "      <td>-0.099371</td>\n",
       "      <td>-1.157715</td>\n",
       "      <td>0.822326</td>\n",
       "      <td>0.618447</td>\n",
       "    </tr>\n",
       "    <tr>\n",
       "      <th>C</th>\n",
       "      <td>-1.573068</td>\n",
       "      <td>0.528304</td>\n",
       "      <td>-0.241682</td>\n",
       "      <td>2.068446</td>\n",
       "    </tr>\n",
       "    <tr>\n",
       "      <th>D</th>\n",
       "      <td>-1.063389</td>\n",
       "      <td>0.164299</td>\n",
       "      <td>-0.905752</td>\n",
       "      <td>0.343066</td>\n",
       "    </tr>\n",
       "    <tr>\n",
       "      <th>newRow</th>\n",
       "      <td>-0.375665</td>\n",
       "      <td>1.279387</td>\n",
       "      <td>-2.790165</td>\n",
       "      <td>-0.515957</td>\n",
       "    </tr>\n",
       "  </tbody>\n",
       "</table>\n",
       "</div>"
      ],
      "text/plain": [
       "               W         X         Y         Z\n",
       "A       0.687724  1.115088 -1.884413 -0.859023\n",
       "B      -0.099371 -1.157715  0.822326  0.618447\n",
       "C      -1.573068  0.528304 -0.241682  2.068446\n",
       "D      -1.063389  0.164299 -0.905752  0.343066\n",
       "newRow -0.375665  1.279387 -2.790165 -0.515957"
      ]
     },
     "execution_count": 23,
     "metadata": {},
     "output_type": "execute_result"
    }
   ],
   "source": [
    "# drop row\n",
    "df1.drop('E') # in the default axis=0"
   ]
  },
  {
   "cell_type": "markdown",
   "id": "minus-wheel",
   "metadata": {},
   "source": [
    "**conditional selecting**"
   ]
  },
  {
   "cell_type": "code",
   "execution_count": 24,
   "id": "previous-trance",
   "metadata": {},
   "outputs": [
    {
     "data": {
      "text/html": [
       "<div>\n",
       "<style scoped>\n",
       "    .dataframe tbody tr th:only-of-type {\n",
       "        vertical-align: middle;\n",
       "    }\n",
       "\n",
       "    .dataframe tbody tr th {\n",
       "        vertical-align: top;\n",
       "    }\n",
       "\n",
       "    .dataframe thead th {\n",
       "        text-align: right;\n",
       "    }\n",
       "</style>\n",
       "<table border=\"1\" class=\"dataframe\">\n",
       "  <thead>\n",
       "    <tr style=\"text-align: right;\">\n",
       "      <th></th>\n",
       "      <th>W</th>\n",
       "      <th>X</th>\n",
       "      <th>Y</th>\n",
       "      <th>Z</th>\n",
       "    </tr>\n",
       "  </thead>\n",
       "  <tbody>\n",
       "    <tr>\n",
       "      <th>A</th>\n",
       "      <td>0.687724</td>\n",
       "      <td>1.115088</td>\n",
       "      <td>-1.884413</td>\n",
       "      <td>-0.859023</td>\n",
       "    </tr>\n",
       "    <tr>\n",
       "      <th>B</th>\n",
       "      <td>-0.099371</td>\n",
       "      <td>-1.157715</td>\n",
       "      <td>0.822326</td>\n",
       "      <td>0.618447</td>\n",
       "    </tr>\n",
       "    <tr>\n",
       "      <th>C</th>\n",
       "      <td>-1.573068</td>\n",
       "      <td>0.528304</td>\n",
       "      <td>-0.241682</td>\n",
       "      <td>2.068446</td>\n",
       "    </tr>\n",
       "    <tr>\n",
       "      <th>D</th>\n",
       "      <td>-1.063389</td>\n",
       "      <td>0.164299</td>\n",
       "      <td>-0.905752</td>\n",
       "      <td>0.343066</td>\n",
       "    </tr>\n",
       "    <tr>\n",
       "      <th>E</th>\n",
       "      <td>0.151257</td>\n",
       "      <td>-0.379639</td>\n",
       "      <td>-0.431457</td>\n",
       "      <td>-0.157105</td>\n",
       "    </tr>\n",
       "    <tr>\n",
       "      <th>newRow</th>\n",
       "      <td>-0.375665</td>\n",
       "      <td>1.279387</td>\n",
       "      <td>-2.790165</td>\n",
       "      <td>-0.515957</td>\n",
       "    </tr>\n",
       "  </tbody>\n",
       "</table>\n",
       "</div>"
      ],
      "text/plain": [
       "               W         X         Y         Z\n",
       "A       0.687724  1.115088 -1.884413 -0.859023\n",
       "B      -0.099371 -1.157715  0.822326  0.618447\n",
       "C      -1.573068  0.528304 -0.241682  2.068446\n",
       "D      -1.063389  0.164299 -0.905752  0.343066\n",
       "E       0.151257 -0.379639 -0.431457 -0.157105\n",
       "newRow -0.375665  1.279387 -2.790165 -0.515957"
      ]
     },
     "execution_count": 24,
     "metadata": {},
     "output_type": "execute_result"
    }
   ],
   "source": [
    "df1"
   ]
  },
  {
   "cell_type": "code",
   "execution_count": 25,
   "id": "adaptive-spirit",
   "metadata": {},
   "outputs": [
    {
     "data": {
      "text/html": [
       "<div>\n",
       "<style scoped>\n",
       "    .dataframe tbody tr th:only-of-type {\n",
       "        vertical-align: middle;\n",
       "    }\n",
       "\n",
       "    .dataframe tbody tr th {\n",
       "        vertical-align: top;\n",
       "    }\n",
       "\n",
       "    .dataframe thead th {\n",
       "        text-align: right;\n",
       "    }\n",
       "</style>\n",
       "<table border=\"1\" class=\"dataframe\">\n",
       "  <thead>\n",
       "    <tr style=\"text-align: right;\">\n",
       "      <th></th>\n",
       "      <th>W</th>\n",
       "      <th>X</th>\n",
       "      <th>Y</th>\n",
       "      <th>Z</th>\n",
       "    </tr>\n",
       "  </thead>\n",
       "  <tbody>\n",
       "    <tr>\n",
       "      <th>A</th>\n",
       "      <td>True</td>\n",
       "      <td>True</td>\n",
       "      <td>False</td>\n",
       "      <td>False</td>\n",
       "    </tr>\n",
       "    <tr>\n",
       "      <th>B</th>\n",
       "      <td>False</td>\n",
       "      <td>False</td>\n",
       "      <td>True</td>\n",
       "      <td>True</td>\n",
       "    </tr>\n",
       "    <tr>\n",
       "      <th>C</th>\n",
       "      <td>False</td>\n",
       "      <td>True</td>\n",
       "      <td>False</td>\n",
       "      <td>True</td>\n",
       "    </tr>\n",
       "    <tr>\n",
       "      <th>D</th>\n",
       "      <td>False</td>\n",
       "      <td>True</td>\n",
       "      <td>False</td>\n",
       "      <td>True</td>\n",
       "    </tr>\n",
       "    <tr>\n",
       "      <th>E</th>\n",
       "      <td>True</td>\n",
       "      <td>False</td>\n",
       "      <td>False</td>\n",
       "      <td>False</td>\n",
       "    </tr>\n",
       "    <tr>\n",
       "      <th>newRow</th>\n",
       "      <td>False</td>\n",
       "      <td>True</td>\n",
       "      <td>False</td>\n",
       "      <td>False</td>\n",
       "    </tr>\n",
       "  </tbody>\n",
       "</table>\n",
       "</div>"
      ],
      "text/plain": [
       "            W      X      Y      Z\n",
       "A        True   True  False  False\n",
       "B       False  False   True   True\n",
       "C       False   True  False   True\n",
       "D       False   True  False   True\n",
       "E        True  False  False  False\n",
       "newRow  False   True  False  False"
      ]
     },
     "execution_count": 25,
     "metadata": {},
     "output_type": "execute_result"
    }
   ],
   "source": [
    "df1 > 0"
   ]
  },
  {
   "cell_type": "code",
   "execution_count": 26,
   "id": "subject-paintball",
   "metadata": {},
   "outputs": [
    {
     "data": {
      "text/html": [
       "<div>\n",
       "<style scoped>\n",
       "    .dataframe tbody tr th:only-of-type {\n",
       "        vertical-align: middle;\n",
       "    }\n",
       "\n",
       "    .dataframe tbody tr th {\n",
       "        vertical-align: top;\n",
       "    }\n",
       "\n",
       "    .dataframe thead th {\n",
       "        text-align: right;\n",
       "    }\n",
       "</style>\n",
       "<table border=\"1\" class=\"dataframe\">\n",
       "  <thead>\n",
       "    <tr style=\"text-align: right;\">\n",
       "      <th></th>\n",
       "      <th>W</th>\n",
       "      <th>X</th>\n",
       "      <th>Y</th>\n",
       "      <th>Z</th>\n",
       "    </tr>\n",
       "  </thead>\n",
       "  <tbody>\n",
       "    <tr>\n",
       "      <th>A</th>\n",
       "      <td>0.687724</td>\n",
       "      <td>1.115088</td>\n",
       "      <td>NaN</td>\n",
       "      <td>NaN</td>\n",
       "    </tr>\n",
       "    <tr>\n",
       "      <th>B</th>\n",
       "      <td>NaN</td>\n",
       "      <td>NaN</td>\n",
       "      <td>0.822326</td>\n",
       "      <td>0.618447</td>\n",
       "    </tr>\n",
       "    <tr>\n",
       "      <th>C</th>\n",
       "      <td>NaN</td>\n",
       "      <td>0.528304</td>\n",
       "      <td>NaN</td>\n",
       "      <td>2.068446</td>\n",
       "    </tr>\n",
       "    <tr>\n",
       "      <th>D</th>\n",
       "      <td>NaN</td>\n",
       "      <td>0.164299</td>\n",
       "      <td>NaN</td>\n",
       "      <td>0.343066</td>\n",
       "    </tr>\n",
       "    <tr>\n",
       "      <th>E</th>\n",
       "      <td>0.151257</td>\n",
       "      <td>NaN</td>\n",
       "      <td>NaN</td>\n",
       "      <td>NaN</td>\n",
       "    </tr>\n",
       "    <tr>\n",
       "      <th>newRow</th>\n",
       "      <td>NaN</td>\n",
       "      <td>1.279387</td>\n",
       "      <td>NaN</td>\n",
       "      <td>NaN</td>\n",
       "    </tr>\n",
       "  </tbody>\n",
       "</table>\n",
       "</div>"
      ],
      "text/plain": [
       "               W         X         Y         Z\n",
       "A       0.687724  1.115088       NaN       NaN\n",
       "B            NaN       NaN  0.822326  0.618447\n",
       "C            NaN  0.528304       NaN  2.068446\n",
       "D            NaN  0.164299       NaN  0.343066\n",
       "E       0.151257       NaN       NaN       NaN\n",
       "newRow       NaN  1.279387       NaN       NaN"
      ]
     },
     "execution_count": 26,
     "metadata": {},
     "output_type": "execute_result"
    }
   ],
   "source": [
    "df1[df1>0]"
   ]
  },
  {
   "cell_type": "code",
   "execution_count": 27,
   "id": "prescription-explanation",
   "metadata": {},
   "outputs": [
    {
     "data": {
      "text/html": [
       "<div>\n",
       "<style scoped>\n",
       "    .dataframe tbody tr th:only-of-type {\n",
       "        vertical-align: middle;\n",
       "    }\n",
       "\n",
       "    .dataframe tbody tr th {\n",
       "        vertical-align: top;\n",
       "    }\n",
       "\n",
       "    .dataframe thead th {\n",
       "        text-align: right;\n",
       "    }\n",
       "</style>\n",
       "<table border=\"1\" class=\"dataframe\">\n",
       "  <thead>\n",
       "    <tr style=\"text-align: right;\">\n",
       "      <th></th>\n",
       "      <th>W</th>\n",
       "      <th>X</th>\n",
       "      <th>Y</th>\n",
       "      <th>Z</th>\n",
       "    </tr>\n",
       "  </thead>\n",
       "  <tbody>\n",
       "    <tr>\n",
       "      <th>A</th>\n",
       "      <td>0.687724</td>\n",
       "      <td>1.115088</td>\n",
       "      <td>-1.884413</td>\n",
       "      <td>-0.859023</td>\n",
       "    </tr>\n",
       "    <tr>\n",
       "      <th>E</th>\n",
       "      <td>0.151257</td>\n",
       "      <td>-0.379639</td>\n",
       "      <td>-0.431457</td>\n",
       "      <td>-0.157105</td>\n",
       "    </tr>\n",
       "  </tbody>\n",
       "</table>\n",
       "</div>"
      ],
      "text/plain": [
       "          W         X         Y         Z\n",
       "A  0.687724  1.115088 -1.884413 -0.859023\n",
       "E  0.151257 -0.379639 -0.431457 -0.157105"
      ]
     },
     "execution_count": 27,
     "metadata": {},
     "output_type": "execute_result"
    }
   ],
   "source": [
    "df1[df1['W']>0]"
   ]
  },
  {
   "cell_type": "code",
   "execution_count": 28,
   "id": "applied-compact",
   "metadata": {},
   "outputs": [
    {
     "data": {
      "text/html": [
       "<div>\n",
       "<style scoped>\n",
       "    .dataframe tbody tr th:only-of-type {\n",
       "        vertical-align: middle;\n",
       "    }\n",
       "\n",
       "    .dataframe tbody tr th {\n",
       "        vertical-align: top;\n",
       "    }\n",
       "\n",
       "    .dataframe thead th {\n",
       "        text-align: right;\n",
       "    }\n",
       "</style>\n",
       "<table border=\"1\" class=\"dataframe\">\n",
       "  <thead>\n",
       "    <tr style=\"text-align: right;\">\n",
       "      <th></th>\n",
       "      <th>Y</th>\n",
       "      <th>X</th>\n",
       "    </tr>\n",
       "  </thead>\n",
       "  <tbody>\n",
       "    <tr>\n",
       "      <th>A</th>\n",
       "      <td>-1.884413</td>\n",
       "      <td>1.115088</td>\n",
       "    </tr>\n",
       "    <tr>\n",
       "      <th>E</th>\n",
       "      <td>-0.431457</td>\n",
       "      <td>-0.379639</td>\n",
       "    </tr>\n",
       "  </tbody>\n",
       "</table>\n",
       "</div>"
      ],
      "text/plain": [
       "          Y         X\n",
       "A -1.884413  1.115088\n",
       "E -0.431457 -0.379639"
      ]
     },
     "execution_count": 28,
     "metadata": {},
     "output_type": "execute_result"
    }
   ],
   "source": [
    "df1[df1['W']>0][['Y','X']]"
   ]
  },
  {
   "cell_type": "markdown",
   "id": "sensitive-amplifier",
   "metadata": {},
   "source": [
    "**reset and set index**"
   ]
  },
  {
   "cell_type": "code",
   "execution_count": 29,
   "id": "moral-enterprise",
   "metadata": {},
   "outputs": [
    {
     "data": {
      "text/html": [
       "<div>\n",
       "<style scoped>\n",
       "    .dataframe tbody tr th:only-of-type {\n",
       "        vertical-align: middle;\n",
       "    }\n",
       "\n",
       "    .dataframe tbody tr th {\n",
       "        vertical-align: top;\n",
       "    }\n",
       "\n",
       "    .dataframe thead th {\n",
       "        text-align: right;\n",
       "    }\n",
       "</style>\n",
       "<table border=\"1\" class=\"dataframe\">\n",
       "  <thead>\n",
       "    <tr style=\"text-align: right;\">\n",
       "      <th></th>\n",
       "      <th>W</th>\n",
       "      <th>X</th>\n",
       "      <th>Y</th>\n",
       "      <th>Z</th>\n",
       "    </tr>\n",
       "  </thead>\n",
       "  <tbody>\n",
       "    <tr>\n",
       "      <th>A</th>\n",
       "      <td>0.687724</td>\n",
       "      <td>1.115088</td>\n",
       "      <td>-1.884413</td>\n",
       "      <td>-0.859023</td>\n",
       "    </tr>\n",
       "    <tr>\n",
       "      <th>B</th>\n",
       "      <td>-0.099371</td>\n",
       "      <td>-1.157715</td>\n",
       "      <td>0.822326</td>\n",
       "      <td>0.618447</td>\n",
       "    </tr>\n",
       "    <tr>\n",
       "      <th>C</th>\n",
       "      <td>-1.573068</td>\n",
       "      <td>0.528304</td>\n",
       "      <td>-0.241682</td>\n",
       "      <td>2.068446</td>\n",
       "    </tr>\n",
       "    <tr>\n",
       "      <th>D</th>\n",
       "      <td>-1.063389</td>\n",
       "      <td>0.164299</td>\n",
       "      <td>-0.905752</td>\n",
       "      <td>0.343066</td>\n",
       "    </tr>\n",
       "    <tr>\n",
       "      <th>E</th>\n",
       "      <td>0.151257</td>\n",
       "      <td>-0.379639</td>\n",
       "      <td>-0.431457</td>\n",
       "      <td>-0.157105</td>\n",
       "    </tr>\n",
       "    <tr>\n",
       "      <th>newRow</th>\n",
       "      <td>-0.375665</td>\n",
       "      <td>1.279387</td>\n",
       "      <td>-2.790165</td>\n",
       "      <td>-0.515957</td>\n",
       "    </tr>\n",
       "  </tbody>\n",
       "</table>\n",
       "</div>"
      ],
      "text/plain": [
       "               W         X         Y         Z\n",
       "A       0.687724  1.115088 -1.884413 -0.859023\n",
       "B      -0.099371 -1.157715  0.822326  0.618447\n",
       "C      -1.573068  0.528304 -0.241682  2.068446\n",
       "D      -1.063389  0.164299 -0.905752  0.343066\n",
       "E       0.151257 -0.379639 -0.431457 -0.157105\n",
       "newRow -0.375665  1.279387 -2.790165 -0.515957"
      ]
     },
     "execution_count": 29,
     "metadata": {},
     "output_type": "execute_result"
    }
   ],
   "source": [
    "df1"
   ]
  },
  {
   "cell_type": "code",
   "execution_count": 30,
   "id": "diverse-monte",
   "metadata": {},
   "outputs": [
    {
     "data": {
      "text/html": [
       "<div>\n",
       "<style scoped>\n",
       "    .dataframe tbody tr th:only-of-type {\n",
       "        vertical-align: middle;\n",
       "    }\n",
       "\n",
       "    .dataframe tbody tr th {\n",
       "        vertical-align: top;\n",
       "    }\n",
       "\n",
       "    .dataframe thead th {\n",
       "        text-align: right;\n",
       "    }\n",
       "</style>\n",
       "<table border=\"1\" class=\"dataframe\">\n",
       "  <thead>\n",
       "    <tr style=\"text-align: right;\">\n",
       "      <th></th>\n",
       "      <th>index</th>\n",
       "      <th>W</th>\n",
       "      <th>X</th>\n",
       "      <th>Y</th>\n",
       "      <th>Z</th>\n",
       "    </tr>\n",
       "  </thead>\n",
       "  <tbody>\n",
       "    <tr>\n",
       "      <th>0</th>\n",
       "      <td>A</td>\n",
       "      <td>0.687724</td>\n",
       "      <td>1.115088</td>\n",
       "      <td>-1.884413</td>\n",
       "      <td>-0.859023</td>\n",
       "    </tr>\n",
       "    <tr>\n",
       "      <th>1</th>\n",
       "      <td>B</td>\n",
       "      <td>-0.099371</td>\n",
       "      <td>-1.157715</td>\n",
       "      <td>0.822326</td>\n",
       "      <td>0.618447</td>\n",
       "    </tr>\n",
       "    <tr>\n",
       "      <th>2</th>\n",
       "      <td>C</td>\n",
       "      <td>-1.573068</td>\n",
       "      <td>0.528304</td>\n",
       "      <td>-0.241682</td>\n",
       "      <td>2.068446</td>\n",
       "    </tr>\n",
       "    <tr>\n",
       "      <th>3</th>\n",
       "      <td>D</td>\n",
       "      <td>-1.063389</td>\n",
       "      <td>0.164299</td>\n",
       "      <td>-0.905752</td>\n",
       "      <td>0.343066</td>\n",
       "    </tr>\n",
       "    <tr>\n",
       "      <th>4</th>\n",
       "      <td>E</td>\n",
       "      <td>0.151257</td>\n",
       "      <td>-0.379639</td>\n",
       "      <td>-0.431457</td>\n",
       "      <td>-0.157105</td>\n",
       "    </tr>\n",
       "    <tr>\n",
       "      <th>5</th>\n",
       "      <td>newRow</td>\n",
       "      <td>-0.375665</td>\n",
       "      <td>1.279387</td>\n",
       "      <td>-2.790165</td>\n",
       "      <td>-0.515957</td>\n",
       "    </tr>\n",
       "  </tbody>\n",
       "</table>\n",
       "</div>"
      ],
      "text/plain": [
       "    index         W         X         Y         Z\n",
       "0       A  0.687724  1.115088 -1.884413 -0.859023\n",
       "1       B -0.099371 -1.157715  0.822326  0.618447\n",
       "2       C -1.573068  0.528304 -0.241682  2.068446\n",
       "3       D -1.063389  0.164299 -0.905752  0.343066\n",
       "4       E  0.151257 -0.379639 -0.431457 -0.157105\n",
       "5  newRow -0.375665  1.279387 -2.790165 -0.515957"
      ]
     },
     "execution_count": 30,
     "metadata": {},
     "output_type": "execute_result"
    }
   ],
   "source": [
    "df1.reset_index(inplace=True)\n",
    "df1"
   ]
  },
  {
   "cell_type": "code",
   "execution_count": 31,
   "id": "polished-discount",
   "metadata": {},
   "outputs": [
    {
     "data": {
      "text/html": [
       "<div>\n",
       "<style scoped>\n",
       "    .dataframe tbody tr th:only-of-type {\n",
       "        vertical-align: middle;\n",
       "    }\n",
       "\n",
       "    .dataframe tbody tr th {\n",
       "        vertical-align: top;\n",
       "    }\n",
       "\n",
       "    .dataframe thead th {\n",
       "        text-align: right;\n",
       "    }\n",
       "</style>\n",
       "<table border=\"1\" class=\"dataframe\">\n",
       "  <thead>\n",
       "    <tr style=\"text-align: right;\">\n",
       "      <th></th>\n",
       "      <th>index</th>\n",
       "      <th>W</th>\n",
       "      <th>X</th>\n",
       "      <th>Y</th>\n",
       "      <th>Z</th>\n",
       "      <th>New index</th>\n",
       "    </tr>\n",
       "  </thead>\n",
       "  <tbody>\n",
       "    <tr>\n",
       "      <th>0</th>\n",
       "      <td>A</td>\n",
       "      <td>0.687724</td>\n",
       "      <td>1.115088</td>\n",
       "      <td>-1.884413</td>\n",
       "      <td>-0.859023</td>\n",
       "      <td>Minh</td>\n",
       "    </tr>\n",
       "    <tr>\n",
       "      <th>1</th>\n",
       "      <td>B</td>\n",
       "      <td>-0.099371</td>\n",
       "      <td>-1.157715</td>\n",
       "      <td>0.822326</td>\n",
       "      <td>0.618447</td>\n",
       "      <td>Long</td>\n",
       "    </tr>\n",
       "    <tr>\n",
       "      <th>2</th>\n",
       "      <td>C</td>\n",
       "      <td>-1.573068</td>\n",
       "      <td>0.528304</td>\n",
       "      <td>-0.241682</td>\n",
       "      <td>2.068446</td>\n",
       "      <td>Yen</td>\n",
       "    </tr>\n",
       "    <tr>\n",
       "      <th>3</th>\n",
       "      <td>D</td>\n",
       "      <td>-1.063389</td>\n",
       "      <td>0.164299</td>\n",
       "      <td>-0.905752</td>\n",
       "      <td>0.343066</td>\n",
       "      <td>Oanh</td>\n",
       "    </tr>\n",
       "    <tr>\n",
       "      <th>4</th>\n",
       "      <td>E</td>\n",
       "      <td>0.151257</td>\n",
       "      <td>-0.379639</td>\n",
       "      <td>-0.431457</td>\n",
       "      <td>-0.157105</td>\n",
       "      <td>Trinh</td>\n",
       "    </tr>\n",
       "    <tr>\n",
       "      <th>5</th>\n",
       "      <td>newRow</td>\n",
       "      <td>-0.375665</td>\n",
       "      <td>1.279387</td>\n",
       "      <td>-2.790165</td>\n",
       "      <td>-0.515957</td>\n",
       "      <td>Dontknow</td>\n",
       "    </tr>\n",
       "  </tbody>\n",
       "</table>\n",
       "</div>"
      ],
      "text/plain": [
       "    index         W         X         Y         Z New index\n",
       "0       A  0.687724  1.115088 -1.884413 -0.859023      Minh\n",
       "1       B -0.099371 -1.157715  0.822326  0.618447      Long\n",
       "2       C -1.573068  0.528304 -0.241682  2.068446       Yen\n",
       "3       D -1.063389  0.164299 -0.905752  0.343066      Oanh\n",
       "4       E  0.151257 -0.379639 -0.431457 -0.157105     Trinh\n",
       "5  newRow -0.375665  1.279387 -2.790165 -0.515957  Dontknow"
      ]
     },
     "execution_count": 31,
     "metadata": {},
     "output_type": "execute_result"
    }
   ],
   "source": [
    "df1['New index'] = 'Minh Long Yen Oanh Trinh Dontknow'.split()\n",
    "df1"
   ]
  },
  {
   "cell_type": "code",
   "execution_count": 32,
   "id": "chubby-proxy",
   "metadata": {},
   "outputs": [
    {
     "data": {
      "text/html": [
       "<div>\n",
       "<style scoped>\n",
       "    .dataframe tbody tr th:only-of-type {\n",
       "        vertical-align: middle;\n",
       "    }\n",
       "\n",
       "    .dataframe tbody tr th {\n",
       "        vertical-align: top;\n",
       "    }\n",
       "\n",
       "    .dataframe thead th {\n",
       "        text-align: right;\n",
       "    }\n",
       "</style>\n",
       "<table border=\"1\" class=\"dataframe\">\n",
       "  <thead>\n",
       "    <tr style=\"text-align: right;\">\n",
       "      <th></th>\n",
       "      <th>index</th>\n",
       "      <th>W</th>\n",
       "      <th>X</th>\n",
       "      <th>Y</th>\n",
       "      <th>Z</th>\n",
       "      <th>New index</th>\n",
       "    </tr>\n",
       "  </thead>\n",
       "  <tbody>\n",
       "    <tr>\n",
       "      <th>0</th>\n",
       "      <td>A</td>\n",
       "      <td>0.687724</td>\n",
       "      <td>1.115088</td>\n",
       "      <td>-1.884413</td>\n",
       "      <td>-0.859023</td>\n",
       "      <td>Minh</td>\n",
       "    </tr>\n",
       "    <tr>\n",
       "      <th>1</th>\n",
       "      <td>B</td>\n",
       "      <td>-0.099371</td>\n",
       "      <td>-1.157715</td>\n",
       "      <td>0.822326</td>\n",
       "      <td>0.618447</td>\n",
       "      <td>Long</td>\n",
       "    </tr>\n",
       "    <tr>\n",
       "      <th>2</th>\n",
       "      <td>C</td>\n",
       "      <td>-1.573068</td>\n",
       "      <td>0.528304</td>\n",
       "      <td>-0.241682</td>\n",
       "      <td>2.068446</td>\n",
       "      <td>Yen</td>\n",
       "    </tr>\n",
       "    <tr>\n",
       "      <th>3</th>\n",
       "      <td>D</td>\n",
       "      <td>-1.063389</td>\n",
       "      <td>0.164299</td>\n",
       "      <td>-0.905752</td>\n",
       "      <td>0.343066</td>\n",
       "      <td>Oanh</td>\n",
       "    </tr>\n",
       "    <tr>\n",
       "      <th>4</th>\n",
       "      <td>E</td>\n",
       "      <td>0.151257</td>\n",
       "      <td>-0.379639</td>\n",
       "      <td>-0.431457</td>\n",
       "      <td>-0.157105</td>\n",
       "      <td>Trinh</td>\n",
       "    </tr>\n",
       "    <tr>\n",
       "      <th>5</th>\n",
       "      <td>newRow</td>\n",
       "      <td>-0.375665</td>\n",
       "      <td>1.279387</td>\n",
       "      <td>-2.790165</td>\n",
       "      <td>-0.515957</td>\n",
       "      <td>Dontknow</td>\n",
       "    </tr>\n",
       "  </tbody>\n",
       "</table>\n",
       "</div>"
      ],
      "text/plain": [
       "    index         W         X         Y         Z New index\n",
       "0       A  0.687724  1.115088 -1.884413 -0.859023      Minh\n",
       "1       B -0.099371 -1.157715  0.822326  0.618447      Long\n",
       "2       C -1.573068  0.528304 -0.241682  2.068446       Yen\n",
       "3       D -1.063389  0.164299 -0.905752  0.343066      Oanh\n",
       "4       E  0.151257 -0.379639 -0.431457 -0.157105     Trinh\n",
       "5  newRow -0.375665  1.279387 -2.790165 -0.515957  Dontknow"
      ]
     },
     "execution_count": 32,
     "metadata": {},
     "output_type": "execute_result"
    }
   ],
   "source": [
    "df1"
   ]
  },
  {
   "cell_type": "code",
   "execution_count": 33,
   "id": "passive-michael",
   "metadata": {},
   "outputs": [
    {
     "data": {
      "text/html": [
       "<div>\n",
       "<style scoped>\n",
       "    .dataframe tbody tr th:only-of-type {\n",
       "        vertical-align: middle;\n",
       "    }\n",
       "\n",
       "    .dataframe tbody tr th {\n",
       "        vertical-align: top;\n",
       "    }\n",
       "\n",
       "    .dataframe thead th {\n",
       "        text-align: right;\n",
       "    }\n",
       "</style>\n",
       "<table border=\"1\" class=\"dataframe\">\n",
       "  <thead>\n",
       "    <tr style=\"text-align: right;\">\n",
       "      <th></th>\n",
       "      <th>index</th>\n",
       "      <th>W</th>\n",
       "      <th>X</th>\n",
       "      <th>Y</th>\n",
       "      <th>Z</th>\n",
       "    </tr>\n",
       "    <tr>\n",
       "      <th>New index</th>\n",
       "      <th></th>\n",
       "      <th></th>\n",
       "      <th></th>\n",
       "      <th></th>\n",
       "      <th></th>\n",
       "    </tr>\n",
       "  </thead>\n",
       "  <tbody>\n",
       "    <tr>\n",
       "      <th>Minh</th>\n",
       "      <td>A</td>\n",
       "      <td>0.687724</td>\n",
       "      <td>1.115088</td>\n",
       "      <td>-1.884413</td>\n",
       "      <td>-0.859023</td>\n",
       "    </tr>\n",
       "    <tr>\n",
       "      <th>Long</th>\n",
       "      <td>B</td>\n",
       "      <td>-0.099371</td>\n",
       "      <td>-1.157715</td>\n",
       "      <td>0.822326</td>\n",
       "      <td>0.618447</td>\n",
       "    </tr>\n",
       "    <tr>\n",
       "      <th>Yen</th>\n",
       "      <td>C</td>\n",
       "      <td>-1.573068</td>\n",
       "      <td>0.528304</td>\n",
       "      <td>-0.241682</td>\n",
       "      <td>2.068446</td>\n",
       "    </tr>\n",
       "    <tr>\n",
       "      <th>Oanh</th>\n",
       "      <td>D</td>\n",
       "      <td>-1.063389</td>\n",
       "      <td>0.164299</td>\n",
       "      <td>-0.905752</td>\n",
       "      <td>0.343066</td>\n",
       "    </tr>\n",
       "    <tr>\n",
       "      <th>Trinh</th>\n",
       "      <td>E</td>\n",
       "      <td>0.151257</td>\n",
       "      <td>-0.379639</td>\n",
       "      <td>-0.431457</td>\n",
       "      <td>-0.157105</td>\n",
       "    </tr>\n",
       "    <tr>\n",
       "      <th>Dontknow</th>\n",
       "      <td>newRow</td>\n",
       "      <td>-0.375665</td>\n",
       "      <td>1.279387</td>\n",
       "      <td>-2.790165</td>\n",
       "      <td>-0.515957</td>\n",
       "    </tr>\n",
       "  </tbody>\n",
       "</table>\n",
       "</div>"
      ],
      "text/plain": [
       "            index         W         X         Y         Z\n",
       "New index                                                \n",
       "Minh            A  0.687724  1.115088 -1.884413 -0.859023\n",
       "Long            B -0.099371 -1.157715  0.822326  0.618447\n",
       "Yen             C -1.573068  0.528304 -0.241682  2.068446\n",
       "Oanh            D -1.063389  0.164299 -0.905752  0.343066\n",
       "Trinh           E  0.151257 -0.379639 -0.431457 -0.157105\n",
       "Dontknow   newRow -0.375665  1.279387 -2.790165 -0.515957"
      ]
     },
     "execution_count": 33,
     "metadata": {},
     "output_type": "execute_result"
    }
   ],
   "source": [
    "df1.set_index('New index',inplace=True)\n",
    "df1"
   ]
  },
  {
   "cell_type": "markdown",
   "id": "brave-thong",
   "metadata": {},
   "source": [
    "<hr>\n",
    "\n",
    "## Missing Data\n",
    "- In real like we usually deal with some unusual data Pandas provide some method to solve it"
   ]
  },
  {
   "cell_type": "code",
   "execution_count": 34,
   "id": "collectible-updating",
   "metadata": {},
   "outputs": [],
   "source": [
    "df2 = pd.DataFrame({'A':[1,2,np.nan],\n",
    "                  'B':[5,np.nan,np.nan],\n",
    "                  'C':[1,2,3]})"
   ]
  },
  {
   "cell_type": "code",
   "execution_count": 35,
   "id": "common-creek",
   "metadata": {},
   "outputs": [
    {
     "data": {
      "text/html": [
       "<div>\n",
       "<style scoped>\n",
       "    .dataframe tbody tr th:only-of-type {\n",
       "        vertical-align: middle;\n",
       "    }\n",
       "\n",
       "    .dataframe tbody tr th {\n",
       "        vertical-align: top;\n",
       "    }\n",
       "\n",
       "    .dataframe thead th {\n",
       "        text-align: right;\n",
       "    }\n",
       "</style>\n",
       "<table border=\"1\" class=\"dataframe\">\n",
       "  <thead>\n",
       "    <tr style=\"text-align: right;\">\n",
       "      <th></th>\n",
       "      <th>A</th>\n",
       "      <th>B</th>\n",
       "      <th>C</th>\n",
       "    </tr>\n",
       "  </thead>\n",
       "  <tbody>\n",
       "    <tr>\n",
       "      <th>0</th>\n",
       "      <td>1.0</td>\n",
       "      <td>5.0</td>\n",
       "      <td>1</td>\n",
       "    </tr>\n",
       "    <tr>\n",
       "      <th>1</th>\n",
       "      <td>2.0</td>\n",
       "      <td>NaN</td>\n",
       "      <td>2</td>\n",
       "    </tr>\n",
       "    <tr>\n",
       "      <th>2</th>\n",
       "      <td>NaN</td>\n",
       "      <td>NaN</td>\n",
       "      <td>3</td>\n",
       "    </tr>\n",
       "  </tbody>\n",
       "</table>\n",
       "</div>"
      ],
      "text/plain": [
       "     A    B  C\n",
       "0  1.0  5.0  1\n",
       "1  2.0  NaN  2\n",
       "2  NaN  NaN  3"
      ]
     },
     "execution_count": 35,
     "metadata": {},
     "output_type": "execute_result"
    }
   ],
   "source": [
    "df2"
   ]
  },
  {
   "cell_type": "code",
   "execution_count": 36,
   "id": "nuclear-bumper",
   "metadata": {},
   "outputs": [
    {
     "data": {
      "text/html": [
       "<div>\n",
       "<style scoped>\n",
       "    .dataframe tbody tr th:only-of-type {\n",
       "        vertical-align: middle;\n",
       "    }\n",
       "\n",
       "    .dataframe tbody tr th {\n",
       "        vertical-align: top;\n",
       "    }\n",
       "\n",
       "    .dataframe thead th {\n",
       "        text-align: right;\n",
       "    }\n",
       "</style>\n",
       "<table border=\"1\" class=\"dataframe\">\n",
       "  <thead>\n",
       "    <tr style=\"text-align: right;\">\n",
       "      <th></th>\n",
       "      <th>A</th>\n",
       "      <th>B</th>\n",
       "      <th>C</th>\n",
       "    </tr>\n",
       "  </thead>\n",
       "  <tbody>\n",
       "    <tr>\n",
       "      <th>0</th>\n",
       "      <td>1.0</td>\n",
       "      <td>5.0</td>\n",
       "      <td>1</td>\n",
       "    </tr>\n",
       "  </tbody>\n",
       "</table>\n",
       "</div>"
      ],
      "text/plain": [
       "     A    B  C\n",
       "0  1.0  5.0  1"
      ]
     },
     "execution_count": 36,
     "metadata": {},
     "output_type": "execute_result"
    }
   ],
   "source": [
    "df2.dropna()"
   ]
  },
  {
   "cell_type": "code",
   "execution_count": 37,
   "id": "simplified-custom",
   "metadata": {},
   "outputs": [
    {
     "data": {
      "text/html": [
       "<div>\n",
       "<style scoped>\n",
       "    .dataframe tbody tr th:only-of-type {\n",
       "        vertical-align: middle;\n",
       "    }\n",
       "\n",
       "    .dataframe tbody tr th {\n",
       "        vertical-align: top;\n",
       "    }\n",
       "\n",
       "    .dataframe thead th {\n",
       "        text-align: right;\n",
       "    }\n",
       "</style>\n",
       "<table border=\"1\" class=\"dataframe\">\n",
       "  <thead>\n",
       "    <tr style=\"text-align: right;\">\n",
       "      <th></th>\n",
       "      <th>C</th>\n",
       "    </tr>\n",
       "  </thead>\n",
       "  <tbody>\n",
       "    <tr>\n",
       "      <th>0</th>\n",
       "      <td>1</td>\n",
       "    </tr>\n",
       "    <tr>\n",
       "      <th>1</th>\n",
       "      <td>2</td>\n",
       "    </tr>\n",
       "    <tr>\n",
       "      <th>2</th>\n",
       "      <td>3</td>\n",
       "    </tr>\n",
       "  </tbody>\n",
       "</table>\n",
       "</div>"
      ],
      "text/plain": [
       "   C\n",
       "0  1\n",
       "1  2\n",
       "2  3"
      ]
     },
     "execution_count": 37,
     "metadata": {},
     "output_type": "execute_result"
    }
   ],
   "source": [
    "df2.dropna(axis=1) # default is 0"
   ]
  },
  {
   "cell_type": "code",
   "execution_count": 38,
   "id": "acceptable-father",
   "metadata": {},
   "outputs": [
    {
     "data": {
      "text/html": [
       "<div>\n",
       "<style scoped>\n",
       "    .dataframe tbody tr th:only-of-type {\n",
       "        vertical-align: middle;\n",
       "    }\n",
       "\n",
       "    .dataframe tbody tr th {\n",
       "        vertical-align: top;\n",
       "    }\n",
       "\n",
       "    .dataframe thead th {\n",
       "        text-align: right;\n",
       "    }\n",
       "</style>\n",
       "<table border=\"1\" class=\"dataframe\">\n",
       "  <thead>\n",
       "    <tr style=\"text-align: right;\">\n",
       "      <th></th>\n",
       "      <th>A</th>\n",
       "      <th>B</th>\n",
       "      <th>C</th>\n",
       "    </tr>\n",
       "  </thead>\n",
       "  <tbody>\n",
       "    <tr>\n",
       "      <th>0</th>\n",
       "      <td>1.0</td>\n",
       "      <td>5.0</td>\n",
       "      <td>1</td>\n",
       "    </tr>\n",
       "    <tr>\n",
       "      <th>1</th>\n",
       "      <td>2.0</td>\n",
       "      <td>NaN</td>\n",
       "      <td>2</td>\n",
       "    </tr>\n",
       "  </tbody>\n",
       "</table>\n",
       "</div>"
      ],
      "text/plain": [
       "     A    B  C\n",
       "0  1.0  5.0  1\n",
       "1  2.0  NaN  2"
      ]
     },
     "execution_count": 38,
     "metadata": {},
     "output_type": "execute_result"
    }
   ],
   "source": [
    "df2.dropna(thresh=2)"
   ]
  },
  {
   "cell_type": "code",
   "execution_count": 39,
   "id": "complete-details",
   "metadata": {},
   "outputs": [
    {
     "data": {
      "text/html": [
       "<div>\n",
       "<style scoped>\n",
       "    .dataframe tbody tr th:only-of-type {\n",
       "        vertical-align: middle;\n",
       "    }\n",
       "\n",
       "    .dataframe tbody tr th {\n",
       "        vertical-align: top;\n",
       "    }\n",
       "\n",
       "    .dataframe thead th {\n",
       "        text-align: right;\n",
       "    }\n",
       "</style>\n",
       "<table border=\"1\" class=\"dataframe\">\n",
       "  <thead>\n",
       "    <tr style=\"text-align: right;\">\n",
       "      <th></th>\n",
       "      <th>A</th>\n",
       "      <th>B</th>\n",
       "      <th>C</th>\n",
       "    </tr>\n",
       "  </thead>\n",
       "  <tbody>\n",
       "    <tr>\n",
       "      <th>0</th>\n",
       "      <td>1.0</td>\n",
       "      <td>5.0</td>\n",
       "      <td>1</td>\n",
       "    </tr>\n",
       "    <tr>\n",
       "      <th>1</th>\n",
       "      <td>2.0</td>\n",
       "      <td>FILL</td>\n",
       "      <td>2</td>\n",
       "    </tr>\n",
       "    <tr>\n",
       "      <th>2</th>\n",
       "      <td>FILL</td>\n",
       "      <td>FILL</td>\n",
       "      <td>3</td>\n",
       "    </tr>\n",
       "  </tbody>\n",
       "</table>\n",
       "</div>"
      ],
      "text/plain": [
       "      A     B  C\n",
       "0   1.0   5.0  1\n",
       "1   2.0  FILL  2\n",
       "2  FILL  FILL  3"
      ]
     },
     "execution_count": 39,
     "metadata": {},
     "output_type": "execute_result"
    }
   ],
   "source": [
    "df2.fillna(value='FILL')"
   ]
  },
  {
   "cell_type": "code",
   "execution_count": 40,
   "id": "victorian-phase",
   "metadata": {},
   "outputs": [
    {
     "data": {
      "text/plain": [
       "0    1.0\n",
       "1    2.0\n",
       "2    1.5\n",
       "Name: A, dtype: float64"
      ]
     },
     "execution_count": 40,
     "metadata": {},
     "output_type": "execute_result"
    }
   ],
   "source": [
    "df2['A'].fillna(value=df2['A'].mean())"
   ]
  },
  {
   "cell_type": "markdown",
   "id": "metric-account",
   "metadata": {},
   "source": [
    "## Operation on DataFrames"
   ]
  },
  {
   "cell_type": "code",
   "execution_count": 41,
   "id": "forty-little",
   "metadata": {},
   "outputs": [
    {
     "data": {
      "text/html": [
       "<div>\n",
       "<style scoped>\n",
       "    .dataframe tbody tr th:only-of-type {\n",
       "        vertical-align: middle;\n",
       "    }\n",
       "\n",
       "    .dataframe tbody tr th {\n",
       "        vertical-align: top;\n",
       "    }\n",
       "\n",
       "    .dataframe thead th {\n",
       "        text-align: right;\n",
       "    }\n",
       "</style>\n",
       "<table border=\"1\" class=\"dataframe\">\n",
       "  <thead>\n",
       "    <tr style=\"text-align: right;\">\n",
       "      <th></th>\n",
       "      <th>col1</th>\n",
       "      <th>col2</th>\n",
       "      <th>col3</th>\n",
       "    </tr>\n",
       "  </thead>\n",
       "  <tbody>\n",
       "    <tr>\n",
       "      <th>0</th>\n",
       "      <td>1</td>\n",
       "      <td>444</td>\n",
       "      <td>abc</td>\n",
       "    </tr>\n",
       "    <tr>\n",
       "      <th>1</th>\n",
       "      <td>2</td>\n",
       "      <td>555</td>\n",
       "      <td>def</td>\n",
       "    </tr>\n",
       "    <tr>\n",
       "      <th>2</th>\n",
       "      <td>3</td>\n",
       "      <td>666</td>\n",
       "      <td>ghi</td>\n",
       "    </tr>\n",
       "    <tr>\n",
       "      <th>3</th>\n",
       "      <td>4</td>\n",
       "      <td>444</td>\n",
       "      <td>xyz</td>\n",
       "    </tr>\n",
       "  </tbody>\n",
       "</table>\n",
       "</div>"
      ],
      "text/plain": [
       "   col1  col2 col3\n",
       "0     1   444  abc\n",
       "1     2   555  def\n",
       "2     3   666  ghi\n",
       "3     4   444  xyz"
      ]
     },
     "execution_count": 41,
     "metadata": {},
     "output_type": "execute_result"
    }
   ],
   "source": [
    "df3 = pd.DataFrame({'col1':[1,2,3,4],'col2':[444,555,666,444],'col3':['abc','def','ghi','xyz']})\n",
    "df3"
   ]
  },
  {
   "cell_type": "code",
   "execution_count": 42,
   "id": "fresh-omaha",
   "metadata": {},
   "outputs": [
    {
     "data": {
      "text/plain": [
       "array([444, 555, 666], dtype=int64)"
      ]
     },
     "execution_count": 42,
     "metadata": {},
     "output_type": "execute_result"
    }
   ],
   "source": [
    "df3['col2'].unique()"
   ]
  },
  {
   "cell_type": "code",
   "execution_count": 43,
   "id": "adverse-diary",
   "metadata": {},
   "outputs": [
    {
     "data": {
      "text/plain": [
       "3"
      ]
     },
     "execution_count": 43,
     "metadata": {},
     "output_type": "execute_result"
    }
   ],
   "source": [
    "df3['col2'].nunique()"
   ]
  },
  {
   "cell_type": "code",
   "execution_count": 44,
   "id": "coupled-floor",
   "metadata": {},
   "outputs": [
    {
     "data": {
      "text/plain": [
       "444    2\n",
       "666    1\n",
       "555    1\n",
       "Name: col2, dtype: int64"
      ]
     },
     "execution_count": 44,
     "metadata": {},
     "output_type": "execute_result"
    }
   ],
   "source": [
    "df3['col2'].value_counts()"
   ]
  },
  {
   "cell_type": "code",
   "execution_count": null,
   "id": "derived-protein",
   "metadata": {},
   "outputs": [],
   "source": []
  }
 ],
 "metadata": {
  "kernelspec": {
   "display_name": "Python 3",
   "language": "python",
   "name": "python3"
  },
  "language_info": {
   "codemirror_mode": {
    "name": "ipython",
    "version": 3
   },
   "file_extension": ".py",
   "mimetype": "text/x-python",
   "name": "python",
   "nbconvert_exporter": "python",
   "pygments_lexer": "ipython3",
   "version": "3.9.2"
  }
 },
 "nbformat": 4,
 "nbformat_minor": 5
}
